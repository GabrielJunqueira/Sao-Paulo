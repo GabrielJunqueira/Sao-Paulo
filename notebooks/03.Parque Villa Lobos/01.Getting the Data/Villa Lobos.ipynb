{
 "cells": [
  {
   "cell_type": "code",
   "execution_count": 2,
   "id": "28c496a9",
   "metadata": {},
   "outputs": [],
   "source": [
    "import pandas as pd\n",
    "import geopandas as gpd\n",
    "%matplotlib inline\n",
    "import numpy as np"
   ]
  },
  {
   "cell_type": "code",
   "execution_count": 3,
   "id": "3685c680",
   "metadata": {},
   "outputs": [],
   "source": [
    "parques = gpd.read_file(\"../../../data/Cidade de São Paulo/Parques/PAR_22_RMSP_CEM/PAR_22_RMSP_CEM.shp\")"
   ]
  },
  {
   "cell_type": "code",
   "execution_count": 38,
   "id": "b81bb55a",
   "metadata": {},
   "outputs": [
    {
     "data": {
      "text/html": [
       "<div>\n",
       "<style scoped>\n",
       "    .dataframe tbody tr th:only-of-type {\n",
       "        vertical-align: middle;\n",
       "    }\n",
       "\n",
       "    .dataframe tbody tr th {\n",
       "        vertical-align: top;\n",
       "    }\n",
       "\n",
       "    .dataframe thead th {\n",
       "        text-align: right;\n",
       "    }\n",
       "</style>\n",
       "<table border=\"1\" class=\"dataframe\">\n",
       "  <thead>\n",
       "    <tr style=\"text-align: right;\">\n",
       "      <th></th>\n",
       "      <th>ID</th>\n",
       "      <th>AREA</th>\n",
       "      <th>DATA</th>\n",
       "      <th>MUN</th>\n",
       "      <th>DIST</th>\n",
       "      <th>CLAS_CEM</th>\n",
       "      <th>CATEG</th>\n",
       "      <th>INSTANC</th>\n",
       "      <th>NOM_TIPO</th>\n",
       "      <th>NOM_PREP</th>\n",
       "      <th>...</th>\n",
       "      <th>NOM_PR_A</th>\n",
       "      <th>NOM_A</th>\n",
       "      <th>NOM_ET_A</th>\n",
       "      <th>ANO</th>\n",
       "      <th>AREA_M2</th>\n",
       "      <th>AREA_HA</th>\n",
       "      <th>AREA_KM2</th>\n",
       "      <th>GESTAO</th>\n",
       "      <th>OBS</th>\n",
       "      <th>geometry</th>\n",
       "    </tr>\n",
       "  </thead>\n",
       "  <tbody>\n",
       "    <tr>\n",
       "      <th>0</th>\n",
       "      <td>55450</td>\n",
       "      <td>0.020305</td>\n",
       "      <td>172</td>\n",
       "      <td>SANTO ANDRE</td>\n",
       "      <td>CAPUAVA</td>\n",
       "      <td>VERDE 6</td>\n",
       "      <td>PARQUE URBANO</td>\n",
       "      <td>MUNICIPAL</td>\n",
       "      <td>PARQUE</td>\n",
       "      <td>None</td>\n",
       "      <td>...</td>\n",
       "      <td>None</td>\n",
       "      <td>Centenário da Imigração Japonesa</td>\n",
       "      <td>Parque Centenário da Imigração Japonesa</td>\n",
       "      <td>NaN</td>\n",
       "      <td>20305</td>\n",
       "      <td>2.030509</td>\n",
       "      <td>0.020305</td>\n",
       "      <td>None</td>\n",
       "      <td>NORIO ARIMURA</td>\n",
       "      <td>POLYGON ((-46.49479 -23.64378, -46.49510 -23.6...</td>\n",
       "    </tr>\n",
       "    <tr>\n",
       "      <th>1</th>\n",
       "      <td>55464</td>\n",
       "      <td>0.024255</td>\n",
       "      <td>173</td>\n",
       "      <td>SAO PAULO</td>\n",
       "      <td>SAO RAFAEL</td>\n",
       "      <td>VERDE 6</td>\n",
       "      <td>PRACA</td>\n",
       "      <td>MUNICIPAL</td>\n",
       "      <td>PRACA</td>\n",
       "      <td>None</td>\n",
       "      <td>...</td>\n",
       "      <td>None</td>\n",
       "      <td>None</td>\n",
       "      <td>Praça</td>\n",
       "      <td>NaN</td>\n",
       "      <td>24255</td>\n",
       "      <td>2.425526</td>\n",
       "      <td>0.024255</td>\n",
       "      <td>None</td>\n",
       "      <td>None</td>\n",
       "      <td>POLYGON ((-46.47639 -23.62655, -46.47654 -23.6...</td>\n",
       "    </tr>\n",
       "    <tr>\n",
       "      <th>2</th>\n",
       "      <td>55478</td>\n",
       "      <td>0.030075</td>\n",
       "      <td>174</td>\n",
       "      <td>SAO PAULO</td>\n",
       "      <td>SAPOPEMBA</td>\n",
       "      <td>VERDE 5</td>\n",
       "      <td>PRACA</td>\n",
       "      <td>MUNICIPAL</td>\n",
       "      <td>PRACA</td>\n",
       "      <td>None</td>\n",
       "      <td>...</td>\n",
       "      <td>None</td>\n",
       "      <td>Humberto Reis Costa</td>\n",
       "      <td>Praça Humberto Reis Costa</td>\n",
       "      <td>NaN</td>\n",
       "      <td>30075</td>\n",
       "      <td>3.007530</td>\n",
       "      <td>0.030075</td>\n",
       "      <td>None</td>\n",
       "      <td>None</td>\n",
       "      <td>POLYGON ((-46.49639 -23.61717, -46.49641 -23.6...</td>\n",
       "    </tr>\n",
       "  </tbody>\n",
       "</table>\n",
       "<p>3 rows × 23 columns</p>\n",
       "</div>"
      ],
      "text/plain": [
       "      ID      AREA  DATA          MUN        DIST CLAS_CEM          CATEG  \\\n",
       "0  55450  0.020305   172  SANTO ANDRE     CAPUAVA  VERDE 6  PARQUE URBANO   \n",
       "1  55464  0.024255   173    SAO PAULO  SAO RAFAEL  VERDE 6          PRACA   \n",
       "2  55478  0.030075   174    SAO PAULO   SAPOPEMBA  VERDE 5          PRACA   \n",
       "\n",
       "     INSTANC NOM_TIPO NOM_PREP  ... NOM_PR_A  \\\n",
       "0  MUNICIPAL   PARQUE     None  ...     None   \n",
       "1  MUNICIPAL    PRACA     None  ...     None   \n",
       "2  MUNICIPAL    PRACA     None  ...     None   \n",
       "\n",
       "                              NOM_A                                 NOM_ET_A  \\\n",
       "0  Centenário da Imigração Japonesa  Parque Centenário da Imigração Japonesa   \n",
       "1                              None                                    Praça   \n",
       "2               Humberto Reis Costa                Praça Humberto Reis Costa   \n",
       "\n",
       "  ANO AREA_M2   AREA_HA  AREA_KM2  GESTAO            OBS  \\\n",
       "0 NaN   20305  2.030509  0.020305    None  NORIO ARIMURA   \n",
       "1 NaN   24255  2.425526  0.024255    None           None   \n",
       "2 NaN   30075  3.007530  0.030075    None           None   \n",
       "\n",
       "                                            geometry  \n",
       "0  POLYGON ((-46.49479 -23.64378, -46.49510 -23.6...  \n",
       "1  POLYGON ((-46.47639 -23.62655, -46.47654 -23.6...  \n",
       "2  POLYGON ((-46.49639 -23.61717, -46.49641 -23.6...  \n",
       "\n",
       "[3 rows x 23 columns]"
      ]
     },
     "execution_count": 38,
     "metadata": {},
     "output_type": "execute_result"
    }
   ],
   "source": [
    "parques.head(3)"
   ]
  },
  {
   "cell_type": "code",
   "execution_count": 5,
   "id": "90baf20e",
   "metadata": {},
   "outputs": [],
   "source": [
    "parque = parques[parques[\"NOM_TIPO\"] == \"PARQUE\"]"
   ]
  },
  {
   "cell_type": "code",
   "execution_count": 6,
   "id": "e8212da7",
   "metadata": {},
   "outputs": [],
   "source": [
    "villa_lobos = parque[parque[\"NOM_A\"] == \"Villa Lobos\"]"
   ]
  },
  {
   "cell_type": "code",
   "execution_count": 7,
   "id": "18a0aebf",
   "metadata": {},
   "outputs": [
    {
     "data": {
      "text/plain": [
       "<AxesSubplot: >"
      ]
     },
     "execution_count": 7,
     "metadata": {},
     "output_type": "execute_result"
    },
    {
     "data": {
      "image/png": "[encoded data removed]",
      "text/plain": [
       "<Figure size 432x288 with 1 Axes>"
      ]
     },
     "metadata": {
      "needs_background": "light"
     },
     "output_type": "display_data"
    }
   ],
   "source": [
    "villa_lobos.plot(color=\"white\", edgecolor='Black')"
   ]
  },
  {
   "cell_type": "code",
   "execution_count": 8,
   "id": "fd2071d9",
   "metadata": {},
   "outputs": [],
   "source": [
    "villa_lobos = villa_lobos[[\"NOM_A\", \"geometry\"]]"
   ]
  },
  {
   "cell_type": "code",
   "execution_count": 9,
   "id": "0f030159",
   "metadata": {},
   "outputs": [
    {
     "name": "stderr",
     "output_type": "stream",
     "text": [
      "C:\\Users\\gabri\\anaconda3\\lib\\site-packages\\geopandas\\geodataframe.py:1443: SettingWithCopyWarning: \n",
      "A value is trying to be set on a copy of a slice from a DataFrame.\n",
      "Try using .loc[row_indexer,col_indexer] = value instead\n",
      "\n",
      "See the caveats in the documentation: https://pandas.pydata.org/pandas-docs/stable/user_guide/indexing.html#returning-a-view-versus-a-copy\n",
      "  super().__setitem__(key, value)\n",
      "C:\\Users\\gabri\\anaconda3\\lib\\site-packages\\geopandas\\geodataframe.py:1443: SettingWithCopyWarning: \n",
      "A value is trying to be set on a copy of a slice from a DataFrame.\n",
      "Try using .loc[row_indexer,col_indexer] = value instead\n",
      "\n",
      "See the caveats in the documentation: https://pandas.pydata.org/pandas-docs/stable/user_guide/indexing.html#returning-a-view-versus-a-copy\n",
      "  super().__setitem__(key, value)\n",
      "C:\\Users\\gabri\\anaconda3\\lib\\site-packages\\geopandas\\geodataframe.py:1443: SettingWithCopyWarning: \n",
      "A value is trying to be set on a copy of a slice from a DataFrame.\n",
      "Try using .loc[row_indexer,col_indexer] = value instead\n",
      "\n",
      "See the caveats in the documentation: https://pandas.pydata.org/pandas-docs/stable/user_guide/indexing.html#returning-a-view-versus-a-copy\n",
      "  super().__setitem__(key, value)\n"
     ]
    }
   ],
   "source": [
    "villa_lobos[\"name\"] = villa_lobos[\"NOM_A\"]\n",
    "\n",
    "villa_lobos['ID'] = np.arange(len(villa_lobos))\n",
    "villa_lobos.set_index('ID', inplace=True)\n",
    "villa_lobos[\"poly_type\"] = \"core\""
   ]
  },
  {
   "cell_type": "code",
   "execution_count": 10,
   "id": "a3c22396",
   "metadata": {},
   "outputs": [
    {
     "data": {
      "text/html": [
       "<div>\n",
       "<style scoped>\n",
       "    .dataframe tbody tr th:only-of-type {\n",
       "        vertical-align: middle;\n",
       "    }\n",
       "\n",
       "    .dataframe tbody tr th {\n",
       "        vertical-align: top;\n",
       "    }\n",
       "\n",
       "    .dataframe thead th {\n",
       "        text-align: right;\n",
       "    }\n",
       "</style>\n",
       "<table border=\"1\" class=\"dataframe\">\n",
       "  <thead>\n",
       "    <tr style=\"text-align: right;\">\n",
       "      <th></th>\n",
       "      <th>NOM_A</th>\n",
       "      <th>geometry</th>\n",
       "      <th>name</th>\n",
       "      <th>poly_type</th>\n",
       "    </tr>\n",
       "    <tr>\n",
       "      <th>ID</th>\n",
       "      <th></th>\n",
       "      <th></th>\n",
       "      <th></th>\n",
       "      <th></th>\n",
       "    </tr>\n",
       "  </thead>\n",
       "  <tbody>\n",
       "    <tr>\n",
       "      <th>0</th>\n",
       "      <td>Villa Lobos</td>\n",
       "      <td>POLYGON ((-46.73015 -23.54170, -46.72978 -23.5...</td>\n",
       "      <td>Villa Lobos</td>\n",
       "      <td>core</td>\n",
       "    </tr>\n",
       "  </tbody>\n",
       "</table>\n",
       "</div>"
      ],
      "text/plain": [
       "          NOM_A                                           geometry  \\\n",
       "ID                                                                   \n",
       "0   Villa Lobos  POLYGON ((-46.73015 -23.54170, -46.72978 -23.5...   \n",
       "\n",
       "           name poly_type  \n",
       "ID                         \n",
       "0   Villa Lobos      core  "
      ]
     },
     "execution_count": 10,
     "metadata": {},
     "output_type": "execute_result"
    }
   ],
   "source": [
    "villa_lobos"
   ]
  },
  {
   "cell_type": "markdown",
   "id": "0af23a55",
   "metadata": {},
   "source": [
    "## Saving"
   ]
  },
  {
   "cell_type": "code",
   "execution_count": 51,
   "id": "4194d8ad",
   "metadata": {},
   "outputs": [],
   "source": [
    "import os\n",
    "dir = '../../../data/Cidade de São Paulo/Parques'\n",
    "\n",
    "if not os.path.exists(dir): \n",
    "    os.makedirs(dir)\n",
    "#se essa pasta não existir, crio ela"
   ]
  },
  {
   "cell_type": "code",
   "execution_count": 52,
   "id": "93d9dd0b",
   "metadata": {},
   "outputs": [],
   "source": [
    "villa_lobos.to_file(dir + '/villa_lobos.geojson')"
   ]
  },
  {
   "cell_type": "code",
   "execution_count": null,
   "id": "a58b1783",
   "metadata": {},
   "outputs": [],
   "source": []
  }
 ],
 "metadata": {
  "kernelspec": {
   "display_name": "Python 3 (ipykernel)",
   "language": "python",
   "name": "python3"
  },
  "language_info": {
   "codemirror_mode": {
    "name": "ipython",
    "version": 3
   },
   "file_extension": ".py",
   "mimetype": "text/x-python",
   "name": "python",
   "nbconvert_exporter": "python",
   "pygments_lexer": "ipython3",
   "version": "3.9.12"
  }
 },
 "nbformat": 4,
 "nbformat_minor": 5
}
