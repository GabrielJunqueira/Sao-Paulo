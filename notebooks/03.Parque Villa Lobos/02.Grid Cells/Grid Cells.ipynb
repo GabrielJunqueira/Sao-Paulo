{
 "cells": [
  {
   "cell_type": "code",
   "execution_count": 1,
   "id": "94b4441c",
   "metadata": {},
   "outputs": [],
   "source": [
    "import pandas as pd\n",
    "import geopandas as gpd\n",
    "%matplotlib inline\n",
    "import numpy as np\n",
    "from shapely.geometry import Point\n",
    "import requests\n",
    "import json\n",
    "import getpass"
   ]
  },
  {
   "cell_type": "code",
   "execution_count": 2,
   "id": "9f982305",
   "metadata": {},
   "outputs": [],
   "source": [
    "villa_lobos = gpd.read_file(\"../../../data/Cidade de São Paulo/Parques/villa_lobos.geojson\")\n",
    "buffer_villa_lobos = gpd.read_file(\"../../../data/Cidade de São Paulo/Parques/villa_lobos_buffer.geojson\")"
   ]
  },
  {
   "cell_type": "code",
   "execution_count": 45,
   "id": "2f4950c8",
   "metadata": {},
   "outputs": [],
   "source": [
    "def get_Cell_IDs(polygon_gdf):\n",
    "    \n",
    "    # Get the bounding box of the polygon\n",
    "    minx, miny, maxx, maxy = polygon_gdf.geometry.total_bounds\n",
    "    \n",
    "    # Generate a grid of points covering the bounding box\n",
    "    x, y = np.meshgrid(np.arange(minx, maxx, 0.001), np.arange(miny, maxy, 0.001))\n",
    "    grid_points = gpd.GeoDataFrame({'geometry': [Point(x, y) for x, y in zip(x.flatten(), y.flatten())]})\n",
    "    \n",
    "    # Determine which points are inside the polygon\n",
    "    inside = grid_points.within(polygon_gdf.iloc[0].geometry)\n",
    "    \n",
    "    # Extract the latitude and longitude of the points that are inside the polygon\n",
    "    lon_lat = grid_points[inside].apply(lambda x: x.geometry.coords[0], axis=1).values\n",
    "    \n",
    "    # Convert the lat_lon list of tuples into a GeoDataFrame\n",
    "    points = gpd.GeoDataFrame(geometry=[Point(lat, lon) for lat, lon in lon_lat])\n",
    "\n",
    "    # Set the coordinate reference system (CRS) of the GeoDataFrame to WGS 84 (EPSG 4326)\n",
    "    points.crs = {'init': 'epsg:4326'}\n",
    "    \n",
    "    # API script:\n",
    "    \n",
    "    root = \"https://api.claro-br.kidodynamics.com/v1/\"\n",
    "\n",
    "    # Login\n",
    "    user = input('Enter username:')\n",
    "    password = getpass.getpass('Pass')\n",
    "    \n",
    "    login_response = requests.post(\n",
    "        root + 'users/login',\n",
    "        headers={\n",
    "            'accept': 'application/json',\n",
    "            'Content-Type': 'application/x-www-form-urlencoded',\n",
    "        },\n",
    "        data=f'grant_type=&username={user}&password={password}'\n",
    "    )\n",
    "    token = login_response.json()['access_token']\n",
    "    \n",
    "    def headers(token):\n",
    "        return {\n",
    "            'accept': 'application/json',\n",
    "            'Authorization': f\"Bearer {token}\"\n",
    "        }\n",
    "    \n",
    "    # List to store the cell IDs\n",
    "    cell_ids = []\n",
    "\n",
    "    # Set to store the collected cell IDs\n",
    "    collected_cell_ids = set()\n",
    "    \n",
    "    # Loop through each latitude-longitude pair in lat_lon\n",
    "    for lon, lat in lon_lat:\n",
    "        # Format the API URL with the latitude and longitude\n",
    "        url = f\"https://api.claro-br.kidodynamics.com/v1/grid/cell_from_point?lat={lat}&lon={lon}\"\n",
    "    \n",
    "        # Check if the request was successful\n",
    "        #if response.status_code == 200:\n",
    "            # Extract the cell ID from the response JSON\n",
    "        response = requests.get(url)\n",
    "    \n",
    "        data = json.loads(response.text)\n",
    "        cell_id = data[\"data\"][0][\"value\"]\n",
    "        \n",
    "        # Check if the cell ID has already been collected\n",
    "        if cell_id not in collected_cell_ids:\n",
    "            # Append the cell ID to the cell_ids list\n",
    "            cell_ids.append(cell_id)\n",
    "            \n",
    "            # Add the cell ID to the collected_cell_ids set\n",
    "            collected_cell_ids.add(cell_id)\n",
    "            \n",
    "    return(collected_cell_ids)"
   ]
  },
  {
   "cell_type": "code",
   "execution_count": 46,
   "id": "4abc73d1",
   "metadata": {},
   "outputs": [
    {
     "name": "stderr",
     "output_type": "stream",
     "text": [
      "C:\\Users\\gabri\\anaconda3\\lib\\site-packages\\pyproj\\crs\\crs.py:141: FutureWarning: '+init=<authority>:<code>' syntax is deprecated. '<authority>:<code>' is the preferred initialization method. When making the change, be mindful of axis order changes: https://pyproj4.github.io/pyproj/stable/gotchas.html#axis-order-changes-in-proj-6\n",
      "  in_crs_string = _prepare_from_proj_string(in_crs_string)\n"
     ]
    },
    {
     "name": "stdout",
     "output_type": "stream",
     "text": [
      "Enter username:gabrieljunqueirasouza@hotmail.com\n",
      "Pass········\n"
     ]
    }
   ],
   "source": [
    "cells = get_Cell_IDs(buffer_villa_lobos)"
   ]
  },
  {
   "cell_type": "code",
   "execution_count": 21,
   "id": "b042e3c8",
   "metadata": {},
   "outputs": [
    {
     "data": {
      "text/plain": [
       "{18505, 47652, 56833, 68676, 86100, 148628, 200132, 240236}"
      ]
     },
     "execution_count": 21,
     "metadata": {},
     "output_type": "execute_result"
    }
   ],
   "source": [
    "#first try\n",
    "cells"
   ]
  },
  {
   "cell_type": "code",
   "execution_count": 43,
   "id": "d7b5bbbe",
   "metadata": {},
   "outputs": [
    {
     "data": {
      "text/plain": [
       "{3955,\n",
       " 18505,\n",
       " 39669,\n",
       " 47652,\n",
       " 56833,\n",
       " 57045,\n",
       " 68676,\n",
       " 84777,\n",
       " 86100,\n",
       " 87207,\n",
       " 99503,\n",
       " 127553,\n",
       " 148628,\n",
       " 158030,\n",
       " 200132,\n",
       " 201703,\n",
       " 211037,\n",
       " 217324,\n",
       " 217541,\n",
       " 226891,\n",
       " 240236}"
      ]
     },
     "execution_count": 43,
     "metadata": {},
     "output_type": "execute_result"
    }
   ],
   "source": [
    "#second try\n",
    "cells"
   ]
  },
  {
   "cell_type": "code",
   "execution_count": 47,
   "id": "727f4460",
   "metadata": {},
   "outputs": [
    {
     "data": {
      "text/plain": [
       "{18505,\n",
       " 47652,\n",
       " 56833,\n",
       " 68676,\n",
       " 84777,\n",
       " 86100,\n",
       " 127553,\n",
       " 148628,\n",
       " 200132,\n",
       " 211037,\n",
       " 226891,\n",
       " 240236}"
      ]
     },
     "execution_count": 47,
     "metadata": {},
     "output_type": "execute_result"
    }
   ],
   "source": [
    "#third try\n",
    "cells"
   ]
  },
  {
   "cell_type": "code",
   "execution_count": null,
   "id": "bb9d5d0c",
   "metadata": {},
   "outputs": [],
   "source": []
  }
 ],
 "metadata": {
  "kernelspec": {
   "display_name": "Python 3 (ipykernel)",
   "language": "python",
   "name": "python3"
  },
  "language_info": {
   "codemirror_mode": {
    "name": "ipython",
    "version": 3
   },
   "file_extension": ".py",
   "mimetype": "text/x-python",
   "name": "python",
   "nbconvert_exporter": "python",
   "pygments_lexer": "ipython3",
   "version": "3.9.12"
  }
 },
 "nbformat": 4,
 "nbformat_minor": 5
}
