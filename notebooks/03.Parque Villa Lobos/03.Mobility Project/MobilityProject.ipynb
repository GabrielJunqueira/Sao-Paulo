{
 "cells": [
  {
   "cell_type": "code",
   "execution_count": 1,
   "id": "6708b27d",
   "metadata": {},
   "outputs": [],
   "source": [
    "import pandas as pd\n",
    "import geopandas as gpd\n",
    "%matplotlib inline\n",
    "import numpy as np"
   ]
  },
  {
   "cell_type": "code",
   "execution_count": 96,
   "id": "f2961d71",
   "metadata": {},
   "outputs": [],
   "source": [
    "#Villa-Lobos\n",
    "villa_lobos_cells = gpd.read_file(\"../../../data/Cidade de São Paulo/Parques/villa_lobos.geojson\")"
   ]
  },
  {
   "cell_type": "code",
   "execution_count": 111,
   "id": "4b94b5ac",
   "metadata": {},
   "outputs": [],
   "source": [
    "#Villa-Lobos cells polygon\n",
    "villa_lobos_cells = gpd.read_file(\"../../../data/Cidade de São Paulo/Parques/villa_lobos_cells.geojson\")"
   ]
  },
  {
   "cell_type": "code",
   "execution_count": 115,
   "id": "d6e2b834",
   "metadata": {},
   "outputs": [
    {
     "data": {
      "text/html": [
       "<div>\n",
       "<style scoped>\n",
       "    .dataframe tbody tr th:only-of-type {\n",
       "        vertical-align: middle;\n",
       "    }\n",
       "\n",
       "    .dataframe tbody tr th {\n",
       "        vertical-align: top;\n",
       "    }\n",
       "\n",
       "    .dataframe thead th {\n",
       "        text-align: right;\n",
       "    }\n",
       "</style>\n",
       "<table border=\"1\" class=\"dataframe\">\n",
       "  <thead>\n",
       "    <tr style=\"text-align: right;\">\n",
       "      <th></th>\n",
       "      <th>name</th>\n",
       "      <th>poly_type</th>\n",
       "      <th>geometry</th>\n",
       "    </tr>\n",
       "    <tr>\n",
       "      <th>ID</th>\n",
       "      <th></th>\n",
       "      <th></th>\n",
       "      <th></th>\n",
       "    </tr>\n",
       "  </thead>\n",
       "  <tbody>\n",
       "    <tr>\n",
       "      <th>0</th>\n",
       "      <td>Villa Lobos Park</td>\n",
       "      <td>core</td>\n",
       "      <td>MULTIPOLYGON (((-46.73035 -23.54888, -46.73584...</td>\n",
       "    </tr>\n",
       "  </tbody>\n",
       "</table>\n",
       "</div>"
      ],
      "text/plain": [
       "                name poly_type  \\\n",
       "ID                               \n",
       "0   Villa Lobos Park      core   \n",
       "\n",
       "                                             geometry  \n",
       "ID                                                     \n",
       "0   MULTIPOLYGON (((-46.73035 -23.54888, -46.73584...  "
      ]
     },
     "execution_count": 115,
     "metadata": {},
     "output_type": "execute_result"
    }
   ],
   "source": [
    "villa_lobos_cells[\"name\"] = \"Villa Lobos Park\"\n",
    "\n",
    "villa_lobos_cells['ID'] = np.arange(len(villa_lobos_cells))\n",
    "villa_lobos_cells.set_index('ID', inplace=True)\n",
    "\n",
    "villa_lobos_cells[\"poly_type\"] = \"core\"\n",
    "\n",
    "villa_lobos_cells = villa_lobos_cells[[\"name\", \"poly_type\", \"geometry\"]]\n",
    "villa_lobos_cells"
   ]
  },
  {
   "cell_type": "code",
   "execution_count": 99,
   "id": "b2c470f2",
   "metadata": {},
   "outputs": [],
   "source": [
    "#metropolitan region + big cities next São Paulo\n",
    "sp_regions = gpd.read_file(\"../../../data/Estado de São Paulo/SP_Region/SP_Region.geojson\")"
   ]
  },
  {
   "cell_type": "code",
   "execution_count": 100,
   "id": "1af51de7",
   "metadata": {},
   "outputs": [],
   "source": [
    "#São Paulo's neighborhoods\n",
    "neighborhoods =  gpd.read_file(\"../../../data/Cidade de São Paulo/bairros_sp.geojson\")"
   ]
  },
  {
   "cell_type": "code",
   "execution_count": 101,
   "id": "a71dc80e",
   "metadata": {},
   "outputs": [],
   "source": [
    "#merging metropolitan region with neighborhoods\n",
    "raw_periphery = pd.concat([sp_regions, neighborhoods], ignore_index=True)"
   ]
  },
  {
   "cell_type": "code",
   "execution_count": 118,
   "id": "f5ea1c38",
   "metadata": {},
   "outputs": [],
   "source": [
    "#receives the periphery region and the buffer area (ameba's like area - core)\n",
    "#output: a gdf ready to be used in the API, with ID, name, poly_type and geometry columns \n",
    "\n",
    "def ameba_region(ameba, region):\n",
    "    #catching the intersection\n",
    "    inter = gpd.overlay(region, ameba, how='intersection')\n",
    "    \n",
    "    #region's map with the ameba removed\n",
    "    res_inter = inter.overlay(region, how='symmetric_difference')\n",
    "    \n",
    "    #ameba as a region\n",
    "    ameba_as_region = pd.concat([res_inter, ameba], ignore_index=True)\n",
    "    \n",
    "    ameba_as_region = ameba_as_region[[\"name\", \"poly_type\", \"geometry\"]]\n",
    "    \n",
    "    #creating the ID column\n",
    "    ameba_as_region['ID'] = np.arange(len(ameba_as_region))\n",
    "    ameba_as_region.set_index('ID', inplace=True)\n",
    "    \n",
    "    return(ameba_as_region)"
   ]
  },
  {
   "cell_type": "code",
   "execution_count": 119,
   "id": "d7c577f5",
   "metadata": {},
   "outputs": [],
   "source": [
    "park_region = ameba_region(villa_lobos_cells, raw_periphery)"
   ]
  },
  {
   "cell_type": "code",
   "execution_count": 120,
   "id": "e234bb20",
   "metadata": {},
   "outputs": [
    {
     "data": {
      "text/plain": [
       "<AxesSubplot: >"
      ]
     },
     "execution_count": 120,
     "metadata": {},
     "output_type": "execute_result"
    },
    {
     "data": {
      "image/png": "[encoded data removed]",
      "text/plain": [
       "<Figure size 432x288 with 1 Axes>"
      ]
     },
     "metadata": {
      "needs_background": "light"
     },
     "output_type": "display_data"
    }
   ],
   "source": [
    "villa_lobos_cells.plot()"
   ]
  },
  {
   "cell_type": "code",
   "execution_count": 121,
   "id": "881d09f9",
   "metadata": {},
   "outputs": [],
   "source": [
    "import os\n",
    "dir = '../../../data/Cidade de São Paulo/Parques/'\n",
    "\n",
    "if not os.path.exists(dir): \n",
    "    os.makedirs(dir)\n",
    "#se essa pasta não existir, crio ela"
   ]
  },
  {
   "cell_type": "code",
   "execution_count": 122,
   "id": "14028eae",
   "metadata": {},
   "outputs": [],
   "source": [
    "park_region.to_file(dir + 'villa_lobos_region2.geojson')"
   ]
  },
  {
   "cell_type": "code",
   "execution_count": 124,
   "id": "8c0d888f",
   "metadata": {},
   "outputs": [
    {
     "data": {
      "text/html": [
       "<div>\n",
       "<style scoped>\n",
       "    .dataframe tbody tr th:only-of-type {\n",
       "        vertical-align: middle;\n",
       "    }\n",
       "\n",
       "    .dataframe tbody tr th {\n",
       "        vertical-align: top;\n",
       "    }\n",
       "\n",
       "    .dataframe thead th {\n",
       "        text-align: right;\n",
       "    }\n",
       "</style>\n",
       "<table border=\"1\" class=\"dataframe\">\n",
       "  <thead>\n",
       "    <tr style=\"text-align: right;\">\n",
       "      <th></th>\n",
       "      <th>name</th>\n",
       "      <th>poly_type</th>\n",
       "      <th>geometry</th>\n",
       "    </tr>\n",
       "    <tr>\n",
       "      <th>ID</th>\n",
       "      <th></th>\n",
       "      <th></th>\n",
       "      <th></th>\n",
       "    </tr>\n",
       "  </thead>\n",
       "  <tbody>\n",
       "    <tr>\n",
       "      <th>195</th>\n",
       "      <td>Villa Lobos Park</td>\n",
       "      <td>core</td>\n",
       "      <td>MULTIPOLYGON (((-46.73035 -23.54888, -46.73584...</td>\n",
       "    </tr>\n",
       "  </tbody>\n",
       "</table>\n",
       "</div>"
      ],
      "text/plain": [
       "                 name poly_type  \\\n",
       "ID                                \n",
       "195  Villa Lobos Park      core   \n",
       "\n",
       "                                              geometry  \n",
       "ID                                                      \n",
       "195  MULTIPOLYGON (((-46.73035 -23.54888, -46.73584...  "
      ]
     },
     "execution_count": 124,
     "metadata": {},
     "output_type": "execute_result"
    }
   ],
   "source": [
    "park_region[park_region[\"poly_type\"] == \"core\"]"
   ]
  },
  {
   "cell_type": "code",
   "execution_count": null,
   "id": "fabfaae6",
   "metadata": {},
   "outputs": [],
   "source": []
  }
 ],
 "metadata": {
  "kernelspec": {
   "display_name": "Python 3 (ipykernel)",
   "language": "python",
   "name": "python3"
  },
  "language_info": {
   "codemirror_mode": {
    "name": "ipython",
    "version": 3
   },
   "file_extension": ".py",
   "mimetype": "text/x-python",
   "name": "python",
   "nbconvert_exporter": "python",
   "pygments_lexer": "ipython3",
   "version": "3.9.12"
  }
 },
 "nbformat": 4,
 "nbformat_minor": 5
}
