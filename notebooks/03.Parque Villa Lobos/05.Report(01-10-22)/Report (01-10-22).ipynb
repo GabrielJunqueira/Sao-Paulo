{
 "cells": [
  {
   "cell_type": "code",
   "execution_count": 14,
   "id": "09707522",
   "metadata": {},
   "outputs": [],
   "source": [
    "import pandas as pd\n",
    "import geopandas as gpd\n",
    "%matplotlib inline\n",
    "import numpy as np\n",
    "import getpass\n",
    "import requests\n",
    "import json"
   ]
  },
  {
   "cell_type": "code",
   "execution_count": 5,
   "id": "58d370a2",
   "metadata": {},
   "outputs": [],
   "source": [
    "raw_report = pd.read_csv(\"../../../data/Reports Villa Lobos/my_report(01-10-22).csv\")"
   ]
  },
  {
   "cell_type": "code",
   "execution_count": 10,
   "id": "57495d45",
   "metadata": {},
   "outputs": [],
   "source": [
    "#obtendo somente as viagens feitas para o parque\n",
    "trips_to_park = raw_report[raw_report[\"origin_id\"] != 195]"
   ]
  },
  {
   "cell_type": "code",
   "execution_count": 66,
   "id": "954e71e5",
   "metadata": {},
   "outputs": [],
   "source": [
    "#Function to normalize the \"total_trips\" column\n",
    "#total_trips is str and has some '<10' values\n",
    "def normalize(df):\n",
    "    for key, value in df[\"total_trips\"].iteritems():\n",
    "        if value == '<10':\n",
    "            df.at[key, 'total_trips'] = '5'\n",
    "    \n",
    "    df['total_trips'] = df['total_trips'].astype(float)\n",
    "#     print(df['total_trips'].sum())\n",
    "    return(df)"
   ]
  },
  {
   "cell_type": "code",
   "execution_count": 12,
   "id": "aa561dc7",
   "metadata": {
    "collapsed": true
   },
   "outputs": [
    {
     "name": "stdout",
     "output_type": "stream",
     "text": [
      "16786.010000000002\n"
     ]
    },
    {
     "name": "stderr",
     "output_type": "stream",
     "text": [
      "C:\\Users\\gabri\\AppData\\Local\\Temp\\ipykernel_10016\\3283907314.py:4: FutureWarning: iteritems is deprecated and will be removed in a future version. Use .items instead.\n",
      "  for key, value in df[\"total_trips\"].iteritems():\n",
      "C:\\Users\\gabri\\AppData\\Local\\Temp\\ipykernel_10016\\3283907314.py:8: SettingWithCopyWarning: \n",
      "A value is trying to be set on a copy of a slice from a DataFrame.\n",
      "Try using .loc[row_indexer,col_indexer] = value instead\n",
      "\n",
      "See the caveats in the documentation: https://pandas.pydata.org/pandas-docs/stable/user_guide/indexing.html#returning-a-view-versus-a-copy\n",
      "  df['total_trips'] = df['total_trips'].astype(float)\n"
     ]
    }
   ],
   "source": [
    "normalize(trips_to_park)"
   ]
  },
  {
   "cell_type": "markdown",
   "id": "705ee49e",
   "metadata": {},
   "source": [
    "## Hourly data"
   ]
  },
  {
   "cell_type": "code",
   "execution_count": 15,
   "id": "6e7ca6cf",
   "metadata": {},
   "outputs": [
    {
     "name": "stdout",
     "output_type": "stream",
     "text": [
      "Enter Project's Code: ef04c53c-457d-41c6-969b-1bfa64c757a9\n"
     ]
    }
   ],
   "source": [
    "code = input(\"Enter Project\" + \"'s \" + \"Code: \")"
   ]
  },
  {
   "cell_type": "code",
   "execution_count": 43,
   "id": "71e9e952",
   "metadata": {},
   "outputs": [
    {
     "data": {
      "text/plain": [
       "True"
      ]
     },
     "execution_count": 43,
     "metadata": {},
     "output_type": "execute_result"
    }
   ],
   "source": [
    "code ==\"ef04c53c-457d-41c6-969b-1bfa64c757a9\""
   ]
  },
  {
   "cell_type": "code",
   "execution_count": null,
   "id": "841856c3",
   "metadata": {},
   "outputs": [],
   "source": [
    "def hourly_script(code, day, month, year, core_name, user):\n",
    "    \n",
    "    #######################\n",
    "    #fixing month and year inputs\n",
    "    if month < 10:\n",
    "        month = str(0) + str(month)\n",
    "    else:\n",
    "        month = str(month)\n",
    "        \n",
    "    if day < 10:\n",
    "        day = str(0) + str(day)\n",
    "    else:\n",
    "        day = str(day)\n",
    "        \n",
    "    if year < 2000:\n",
    "        year = str(20) + str(year)\n",
    "    else:\n",
    "        year = str(year)\n",
    "    #######################\n",
    "    \n",
    "    root = \"https://api.claro-br.kidodynamics.com/v1/\"\n",
    "    project_root = root + 'project/{'+ code + '}'\n",
    "    \n",
    "    #login\n",
    "#     user = input('Enter username:')\n",
    "    password = getpass.getpass('Pass')\n",
    "\n",
    "    user = user\n",
    "    \n",
    "    login_response = requests.post(\n",
    "    root + 'users/login',\n",
    "    headers={\n",
    "        'accept': 'application/json',\n",
    "        'Content-Type': 'application/x-www-form-urlencoded',\n",
    "    },\n",
    "    data=f'grant_type=&username={user}&password={password}'\n",
    "    )\n",
    "    token = login_response.json()['access_token']\n",
    "    \n",
    "    \n",
    "    def headers(token):\n",
    "        return {\n",
    "            'accept': 'application/json',\n",
    "            'Authorization': f\"Bearer {token}\"\n",
    "        }\n",
    "    \n",
    "    url = 'https://api.claro-br.kidodynamics.com/v1/projects/' +  code + '/query?metric=total_trips&matrix=trips&date_start='+ year + '-' + month + '-' + day + '&date_end='+ year + '-' + month + '-' + day + '&' \n",
    "\n",
    "    #script hourly\n",
    "    DF = pd.DataFrame()\n",
    "    df = pd.DataFrame()\n",
    "\n",
    "    for i in range(24):\n",
    "        response = requests.get(url + \"arrivals=\" + str(i), headers=headers(token))\n",
    "        data = json.loads(response.text)\n",
    "        df = pd.DataFrame(data[\"data\"])\n",
    "        df['Arrival Hour'] = i\n",
    "        #removing \"<10\"\n",
    "        df = normalize(df)\n",
    "        DF = pd.concat([DF, df], axis=0, ignore_index=True)\n",
    "      \n",
    "    #removing core as origin trips\n",
    "    \n",
    "    rows_to_drop = DF.loc[DF[\"origin_id\"].str.contains(core_name)]\n",
    "    DF = DF.drop(rows_to_drop.index)\n",
    "    DF2 = DF\n",
    "\n",
    "    \n",
    "    #ploting and printing\n",
    "    DF = DF[[\"total_trips\" , \"Arrival Hour\"]]\n",
    "    DF = DF.groupby('Arrival Hour').sum()\n",
    "    DF.plot.bar(figsize=(18,6))\n",
    "    print(\"\\nTotal trips made to the core area on this date: \" + str(DF[\"total_trips\"].sum()))\n",
    "    \n",
    "    return(DF2)"
   ]
  },
  {
   "cell_type": "code",
   "execution_count": 71,
   "id": "6e8f4854",
   "metadata": {},
   "outputs": [
    {
     "name": "stdout",
     "output_type": "stream",
     "text": [
      "Pass········\n"
     ]
    },
    {
     "name": "stderr",
     "output_type": "stream",
     "text": [
      "C:\\Users\\gabri\\AppData\\Local\\Temp\\ipykernel_10016\\1623616631.py:4: FutureWarning: iteritems is deprecated and will be removed in a future version. Use .items instead.\n",
      "  for key, value in df[\"total_trips\"].iteritems():\n",
      "C:\\Users\\gabri\\AppData\\Local\\Temp\\ipykernel_10016\\1623616631.py:4: FutureWarning: iteritems is deprecated and will be removed in a future version. Use .items instead.\n",
      "  for key, value in df[\"total_trips\"].iteritems():\n",
      "C:\\Users\\gabri\\AppData\\Local\\Temp\\ipykernel_10016\\1623616631.py:4: FutureWarning: iteritems is deprecated and will be removed in a future version. Use .items instead.\n",
      "  for key, value in df[\"total_trips\"].iteritems():\n",
      "C:\\Users\\gabri\\AppData\\Local\\Temp\\ipykernel_10016\\1623616631.py:4: FutureWarning: iteritems is deprecated and will be removed in a future version. Use .items instead.\n",
      "  for key, value in df[\"total_trips\"].iteritems():\n",
      "C:\\Users\\gabri\\AppData\\Local\\Temp\\ipykernel_10016\\1623616631.py:4: FutureWarning: iteritems is deprecated and will be removed in a future version. Use .items instead.\n",
      "  for key, value in df[\"total_trips\"].iteritems():\n",
      "C:\\Users\\gabri\\AppData\\Local\\Temp\\ipykernel_10016\\1623616631.py:4: FutureWarning: iteritems is deprecated and will be removed in a future version. Use .items instead.\n",
      "  for key, value in df[\"total_trips\"].iteritems():\n",
      "C:\\Users\\gabri\\AppData\\Local\\Temp\\ipykernel_10016\\1623616631.py:4: FutureWarning: iteritems is deprecated and will be removed in a future version. Use .items instead.\n",
      "  for key, value in df[\"total_trips\"].iteritems():\n",
      "C:\\Users\\gabri\\AppData\\Local\\Temp\\ipykernel_10016\\1623616631.py:4: FutureWarning: iteritems is deprecated and will be removed in a future version. Use .items instead.\n",
      "  for key, value in df[\"total_trips\"].iteritems():\n",
      "C:\\Users\\gabri\\AppData\\Local\\Temp\\ipykernel_10016\\1623616631.py:4: FutureWarning: iteritems is deprecated and will be removed in a future version. Use .items instead.\n",
      "  for key, value in df[\"total_trips\"].iteritems():\n",
      "C:\\Users\\gabri\\AppData\\Local\\Temp\\ipykernel_10016\\1623616631.py:4: FutureWarning: iteritems is deprecated and will be removed in a future version. Use .items instead.\n",
      "  for key, value in df[\"total_trips\"].iteritems():\n",
      "C:\\Users\\gabri\\AppData\\Local\\Temp\\ipykernel_10016\\1623616631.py:4: FutureWarning: iteritems is deprecated and will be removed in a future version. Use .items instead.\n",
      "  for key, value in df[\"total_trips\"].iteritems():\n",
      "C:\\Users\\gabri\\AppData\\Local\\Temp\\ipykernel_10016\\1623616631.py:4: FutureWarning: iteritems is deprecated and will be removed in a future version. Use .items instead.\n",
      "  for key, value in df[\"total_trips\"].iteritems():\n",
      "C:\\Users\\gabri\\AppData\\Local\\Temp\\ipykernel_10016\\1623616631.py:4: FutureWarning: iteritems is deprecated and will be removed in a future version. Use .items instead.\n",
      "  for key, value in df[\"total_trips\"].iteritems():\n",
      "C:\\Users\\gabri\\AppData\\Local\\Temp\\ipykernel_10016\\1623616631.py:4: FutureWarning: iteritems is deprecated and will be removed in a future version. Use .items instead.\n",
      "  for key, value in df[\"total_trips\"].iteritems():\n",
      "C:\\Users\\gabri\\AppData\\Local\\Temp\\ipykernel_10016\\1623616631.py:4: FutureWarning: iteritems is deprecated and will be removed in a future version. Use .items instead.\n",
      "  for key, value in df[\"total_trips\"].iteritems():\n",
      "C:\\Users\\gabri\\AppData\\Local\\Temp\\ipykernel_10016\\1623616631.py:4: FutureWarning: iteritems is deprecated and will be removed in a future version. Use .items instead.\n",
      "  for key, value in df[\"total_trips\"].iteritems():\n",
      "C:\\Users\\gabri\\AppData\\Local\\Temp\\ipykernel_10016\\1623616631.py:4: FutureWarning: iteritems is deprecated and will be removed in a future version. Use .items instead.\n",
      "  for key, value in df[\"total_trips\"].iteritems():\n",
      "C:\\Users\\gabri\\AppData\\Local\\Temp\\ipykernel_10016\\1623616631.py:4: FutureWarning: iteritems is deprecated and will be removed in a future version. Use .items instead.\n",
      "  for key, value in df[\"total_trips\"].iteritems():\n",
      "C:\\Users\\gabri\\AppData\\Local\\Temp\\ipykernel_10016\\1623616631.py:4: FutureWarning: iteritems is deprecated and will be removed in a future version. Use .items instead.\n",
      "  for key, value in df[\"total_trips\"].iteritems():\n",
      "C:\\Users\\gabri\\AppData\\Local\\Temp\\ipykernel_10016\\1623616631.py:4: FutureWarning: iteritems is deprecated and will be removed in a future version. Use .items instead.\n",
      "  for key, value in df[\"total_trips\"].iteritems():\n",
      "C:\\Users\\gabri\\AppData\\Local\\Temp\\ipykernel_10016\\1623616631.py:4: FutureWarning: iteritems is deprecated and will be removed in a future version. Use .items instead.\n",
      "  for key, value in df[\"total_trips\"].iteritems():\n",
      "C:\\Users\\gabri\\AppData\\Local\\Temp\\ipykernel_10016\\1623616631.py:4: FutureWarning: iteritems is deprecated and will be removed in a future version. Use .items instead.\n",
      "  for key, value in df[\"total_trips\"].iteritems():\n",
      "C:\\Users\\gabri\\AppData\\Local\\Temp\\ipykernel_10016\\1623616631.py:4: FutureWarning: iteritems is deprecated and will be removed in a future version. Use .items instead.\n",
      "  for key, value in df[\"total_trips\"].iteritems():\n",
      "C:\\Users\\gabri\\AppData\\Local\\Temp\\ipykernel_10016\\1623616631.py:4: FutureWarning: iteritems is deprecated and will be removed in a future version. Use .items instead.\n",
      "  for key, value in df[\"total_trips\"].iteritems():\n"
     ]
    }
   ],
   "source": [
    "df = hourly_script(code, 1, 10, 2022, \"Villa Lobos Park\", \"gabrieljunqueirasouza@hotmail.com\")"
   ]
  },
  {
   "cell_type": "code",
   "execution_count": null,
   "id": "aea2cef9",
   "metadata": {},
   "outputs": [],
   "source": [
    "gabrieljunqueirasouza@hotmail.com\n",
    "\n",
    "p6JV_(D?HAVQ"
   ]
  },
  {
   "cell_type": "code",
   "execution_count": 72,
   "id": "ee93956e",
   "metadata": {},
   "outputs": [
    {
     "data": {
      "text/html": [
       "<div>\n",
       "<style scoped>\n",
       "    .dataframe tbody tr th:only-of-type {\n",
       "        vertical-align: middle;\n",
       "    }\n",
       "\n",
       "    .dataframe tbody tr th {\n",
       "        vertical-align: top;\n",
       "    }\n",
       "\n",
       "    .dataframe thead th {\n",
       "        text-align: right;\n",
       "    }\n",
       "</style>\n",
       "<table border=\"1\" class=\"dataframe\">\n",
       "  <thead>\n",
       "    <tr style=\"text-align: right;\">\n",
       "      <th></th>\n",
       "      <th>origin_id</th>\n",
       "      <th>destination_id</th>\n",
       "      <th>total_trips</th>\n",
       "      <th>Arrival Hour</th>\n",
       "    </tr>\n",
       "  </thead>\n",
       "  <tbody>\n",
       "    <tr>\n",
       "      <th>0</th>\n",
       "      <td>Carapicuíba, (16)</td>\n",
       "      <td>Villa Lobos Park, (195)</td>\n",
       "      <td>13.57</td>\n",
       "      <td>0</td>\n",
       "    </tr>\n",
       "    <tr>\n",
       "      <th>1</th>\n",
       "      <td>Embu das Artes, (26)</td>\n",
       "      <td>Villa Lobos Park, (195)</td>\n",
       "      <td>5.00</td>\n",
       "      <td>0</td>\n",
       "    </tr>\n",
       "    <tr>\n",
       "      <th>2</th>\n",
       "      <td>Osasco, (61)</td>\n",
       "      <td>Villa Lobos Park, (195)</td>\n",
       "      <td>5.00</td>\n",
       "      <td>0</td>\n",
       "    </tr>\n",
       "    <tr>\n",
       "      <th>3</th>\n",
       "      <td>PERDIZES, (103)</td>\n",
       "      <td>Villa Lobos Park, (195)</td>\n",
       "      <td>5.00</td>\n",
       "      <td>0</td>\n",
       "    </tr>\n",
       "    <tr>\n",
       "      <th>4</th>\n",
       "      <td>SANTO AMARO, (107)</td>\n",
       "      <td>Villa Lobos Park, (195)</td>\n",
       "      <td>5.00</td>\n",
       "      <td>0</td>\n",
       "    </tr>\n",
       "    <tr>\n",
       "      <th>...</th>\n",
       "      <td>...</td>\n",
       "      <td>...</td>\n",
       "      <td>...</td>\n",
       "      <td>...</td>\n",
       "    </tr>\n",
       "    <tr>\n",
       "      <th>235</th>\n",
       "      <td>Guarulhos, (33)</td>\n",
       "      <td>Villa Lobos Park, (195)</td>\n",
       "      <td>20.56</td>\n",
       "      <td>23</td>\n",
       "    </tr>\n",
       "    <tr>\n",
       "      <th>236</th>\n",
       "      <td>Itapevi, (41)</td>\n",
       "      <td>Villa Lobos Park, (195)</td>\n",
       "      <td>5.00</td>\n",
       "      <td>23</td>\n",
       "    </tr>\n",
       "    <tr>\n",
       "      <th>237</th>\n",
       "      <td>Jundiaí, (48)</td>\n",
       "      <td>Villa Lobos Park, (195)</td>\n",
       "      <td>5.00</td>\n",
       "      <td>23</td>\n",
       "    </tr>\n",
       "    <tr>\n",
       "      <th>238</th>\n",
       "      <td>Osasco, (61)</td>\n",
       "      <td>Villa Lobos Park, (195)</td>\n",
       "      <td>27.05</td>\n",
       "      <td>23</td>\n",
       "    </tr>\n",
       "    <tr>\n",
       "      <th>239</th>\n",
       "      <td>Santana de Parnaíba, (80)</td>\n",
       "      <td>Villa Lobos Park, (195)</td>\n",
       "      <td>5.00</td>\n",
       "      <td>23</td>\n",
       "    </tr>\n",
       "  </tbody>\n",
       "</table>\n",
       "<p>240 rows × 4 columns</p>\n",
       "</div>"
      ],
      "text/plain": [
       "                     origin_id           destination_id  total_trips  \\\n",
       "0            Carapicuíba, (16)  Villa Lobos Park, (195)        13.57   \n",
       "1         Embu das Artes, (26)  Villa Lobos Park, (195)         5.00   \n",
       "2                 Osasco, (61)  Villa Lobos Park, (195)         5.00   \n",
       "3              PERDIZES, (103)  Villa Lobos Park, (195)         5.00   \n",
       "4           SANTO AMARO, (107)  Villa Lobos Park, (195)         5.00   \n",
       "..                         ...                      ...          ...   \n",
       "235            Guarulhos, (33)  Villa Lobos Park, (195)        20.56   \n",
       "236              Itapevi, (41)  Villa Lobos Park, (195)         5.00   \n",
       "237              Jundiaí, (48)  Villa Lobos Park, (195)         5.00   \n",
       "238               Osasco, (61)  Villa Lobos Park, (195)        27.05   \n",
       "239  Santana de Parnaíba, (80)  Villa Lobos Park, (195)         5.00   \n",
       "\n",
       "     Arrival Hour  \n",
       "0               0  \n",
       "1               0  \n",
       "2               0  \n",
       "3               0  \n",
       "4               0  \n",
       "..            ...  \n",
       "235            23  \n",
       "236            23  \n",
       "237            23  \n",
       "238            23  \n",
       "239            23  \n",
       "\n",
       "[240 rows x 4 columns]"
      ]
     },
     "execution_count": 72,
     "metadata": {},
     "output_type": "execute_result"
    }
   ],
   "source": [
    "df"
   ]
  },
  {
   "cell_type": "code",
   "execution_count": 73,
   "id": "c607f11d",
   "metadata": {},
   "outputs": [
    {
     "name": "stdout",
     "output_type": "stream",
     "text": [
      "\n",
      "Total trips made to the core area on this date: 2089.63\n"
     ]
    },
    {
     "data": {
      "image/png": "[encoded data removed]",
      "text/plain": [
       "<Figure size 1296x432 with 1 Axes>"
      ]
     },
     "metadata": {
      "needs_background": "light"
     },
     "output_type": "display_data"
    }
   ],
   "source": [
    "DF = df[[\"total_trips\" , \"Arrival Hour\"]]\n",
    "DF = DF.groupby('Arrival Hour').sum()\n",
    "DF.plot.bar(figsize=(18,6))\n",
    "print(\"\\nTotal trips made to the core area on this date: \" + str(DF[\"total_trips\"].sum()))"
   ]
  },
  {
   "cell_type": "code",
   "execution_count": 75,
   "id": "bed5e0dd",
   "metadata": {},
   "outputs": [
    {
     "data": {
      "text/html": [
       "<div>\n",
       "<style scoped>\n",
       "    .dataframe tbody tr th:only-of-type {\n",
       "        vertical-align: middle;\n",
       "    }\n",
       "\n",
       "    .dataframe tbody tr th {\n",
       "        vertical-align: top;\n",
       "    }\n",
       "\n",
       "    .dataframe thead th {\n",
       "        text-align: right;\n",
       "    }\n",
       "</style>\n",
       "<table border=\"1\" class=\"dataframe\">\n",
       "  <thead>\n",
       "    <tr style=\"text-align: right;\">\n",
       "      <th></th>\n",
       "      <th>origin_id</th>\n",
       "      <th>destination_id</th>\n",
       "      <th>total_trips</th>\n",
       "      <th>Arrival Hour</th>\n",
       "    </tr>\n",
       "  </thead>\n",
       "  <tbody>\n",
       "  </tbody>\n",
       "</table>\n",
       "</div>"
      ],
      "text/plain": [
       "Empty DataFrame\n",
       "Columns: [origin_id, destination_id, total_trips, Arrival Hour]\n",
       "Index: []"
      ]
     },
     "execution_count": 75,
     "metadata": {},
     "output_type": "execute_result"
    }
   ],
   "source": [
    "df[df[\"origin_id\"] == \"Villa Lobos Park, (195)\"]"
   ]
  },
  {
   "cell_type": "code",
   "execution_count": null,
   "id": "ff19cecd",
   "metadata": {},
   "outputs": [],
   "source": []
  }
 ],
 "metadata": {
  "kernelspec": {
   "display_name": "Python 3 (ipykernel)",
   "language": "python",
   "name": "python3"
  },
  "language_info": {
   "codemirror_mode": {
    "name": "ipython",
    "version": 3
   },
   "file_extension": ".py",
   "mimetype": "text/x-python",
   "name": "python",
   "nbconvert_exporter": "python",
   "pygments_lexer": "ipython3",
   "version": "3.9.12"
  }
 },
 "nbformat": 4,
 "nbformat_minor": 5
}
