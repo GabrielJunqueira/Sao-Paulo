{
 "cells": [
  {
   "cell_type": "code",
   "execution_count": 1,
   "id": "701d4910",
   "metadata": {},
   "outputs": [],
   "source": [
    "import pandas as pd\n",
    "import geopandas as gpd\n",
    "from geopandas import GeoSeries\n",
    "%matplotlib inline\n",
    "import matplotlib.pyplot as plt\n",
    "from shapely.ops import cascaded_union\n",
    "from shapely.geometry import Point, LineString, Polygon\n",
    "from functools import partial\n",
    "import pyproj\n",
    "from shapely.ops import transform\n",
    "import numpy as np\n",
    "from geopandas import GeoDataFrame\n",
    "\n",
    "import requests\n",
    "import json\n",
    "import getpass"
   ]
  },
  {
   "cell_type": "code",
   "execution_count": 2,
   "id": "dd7152a8",
   "metadata": {},
   "outputs": [],
   "source": [
    "core_cells = gpd.read_file(\"../../../data/Cidade de São Paulo/Interlagos/cells_core.geojson\")"
   ]
  },
  {
   "cell_type": "code",
   "execution_count": 4,
   "id": "2bb20722",
   "metadata": {},
   "outputs": [],
   "source": [
    "bairros = gpd.read_file(\"../../../data/Cidade de São Paulo/bairros_sp.geojson\")"
   ]
  },
  {
   "cell_type": "code",
   "execution_count": 7,
   "id": "fc1354f7",
   "metadata": {},
   "outputs": [],
   "source": [
    "bairros = bairros[[\"name\", \"poly_type\", \"geometry\"]]"
   ]
  },
  {
   "cell_type": "markdown",
   "id": "f42fe6d0",
   "metadata": {},
   "source": [
    "## Merging all polygons into 1 polygon "
   ]
  },
  {
   "cell_type": "code",
   "execution_count": 10,
   "id": "ddb50a04",
   "metadata": {},
   "outputs": [
    {
     "name": "stderr",
     "output_type": "stream",
     "text": [
      "C:\\Users\\gabri\\AppData\\Local\\Temp\\ipykernel_8864\\2593464792.py:5: ShapelyDeprecationWarning: The 'cascaded_union()' function is deprecated. Use 'unary_union()' instead.\n",
      "  merged_polygons = cascaded_union(polygons)\n",
      "C:\\Users\\gabri\\AppData\\Local\\Temp\\ipykernel_8864\\2593464792.py:11: SettingWithCopyWarning: \n",
      "A value is trying to be set on a copy of a slice from a DataFrame\n",
      "\n",
      "See the caveats in the documentation: https://pandas.pydata.org/pandas-docs/stable/user_guide/indexing.html#returning-a-view-versus-a-copy\n",
      "  merged_gdf2.loc[0, \"geometry\"] = merged_polygons\n"
     ]
    }
   ],
   "source": [
    "from shapely.ops import cascaded_union\n",
    "from shapely.geometry import Polygon, MultiPolygon\n",
    "\n",
    "polygons = [row.geometry for i, row in core_cells.iterrows()]\n",
    "merged_polygons = cascaded_union(polygons)\n",
    "\n",
    "if type(merged_polygons) == Polygon:\n",
    "    merged_polygons = MultiPolygon([merged_polygons])\n",
    "\n",
    "merged_gdf2 = core_cells.iloc[0:0]\n",
    "merged_gdf2.loc[0, \"geometry\"] = merged_polygons"
   ]
  },
  {
   "cell_type": "code",
   "execution_count": 12,
   "id": "5974a351",
   "metadata": {},
   "outputs": [],
   "source": [
    "merged_gdf = gpd.GeoDataFrame(index=[0], crs=bairros.crs, geometry=[merged_polygons])\n",
    "core_cell = merged_gdf"
   ]
  },
  {
   "cell_type": "code",
   "execution_count": 13,
   "id": "0c8d4a55",
   "metadata": {},
   "outputs": [
    {
     "data": {
      "text/plain": [
       "<AxesSubplot: >"
      ]
     },
     "execution_count": 13,
     "metadata": {},
     "output_type": "execute_result"
    },
    {
     "data": {
      "image/png": "[encoded data removed]",
      "text/plain": [
       "<Figure size 864x576 with 1 Axes>"
      ]
     },
     "metadata": {
      "needs_background": "light"
     },
     "output_type": "display_data"
    }
   ],
   "source": [
    "core_cell.plot(color=\"none\", edgecolor='black', figsize=(12,8))"
   ]
  },
  {
   "cell_type": "code",
   "execution_count": 17,
   "id": "83a4a66c",
   "metadata": {},
   "outputs": [
    {
     "data": {
      "text/html": [
       "<div>\n",
       "<style scoped>\n",
       "    .dataframe tbody tr th:only-of-type {\n",
       "        vertical-align: middle;\n",
       "    }\n",
       "\n",
       "    .dataframe tbody tr th {\n",
       "        vertical-align: top;\n",
       "    }\n",
       "\n",
       "    .dataframe thead th {\n",
       "        text-align: right;\n",
       "    }\n",
       "</style>\n",
       "<table border=\"1\" class=\"dataframe\">\n",
       "  <thead>\n",
       "    <tr style=\"text-align: right;\">\n",
       "      <th></th>\n",
       "      <th>name</th>\n",
       "      <th>poly_type</th>\n",
       "      <th>geometry</th>\n",
       "    </tr>\n",
       "    <tr>\n",
       "      <th>ID</th>\n",
       "      <th></th>\n",
       "      <th></th>\n",
       "      <th></th>\n",
       "    </tr>\n",
       "  </thead>\n",
       "  <tbody>\n",
       "    <tr>\n",
       "      <th>0</th>\n",
       "      <td>Autodromo</td>\n",
       "      <td>core</td>\n",
       "      <td>MULTIPOLYGON (((-46.70288 -23.70238, -46.70288...</td>\n",
       "    </tr>\n",
       "  </tbody>\n",
       "</table>\n",
       "</div>"
      ],
      "text/plain": [
       "         name poly_type                                           geometry\n",
       "ID                                                                        \n",
       "0   Autodromo      core  MULTIPOLYGON (((-46.70288 -23.70238, -46.70288..."
      ]
     },
     "execution_count": 17,
     "metadata": {},
     "output_type": "execute_result"
    }
   ],
   "source": [
    "core_cell[\"poly_type\"] = \"core\"\n",
    "core_cell[\"name\"] = \"Autodromo\"\n",
    "\n",
    "core_cell['ID'] = np.arange(len(core_cell))\n",
    "core_cell.set_index('ID', inplace=True)\n",
    "core_cell = core_cell[[\"name\", \"poly_type\", \"geometry\"]]\n",
    "core_cell"
   ]
  },
  {
   "cell_type": "code",
   "execution_count": 14,
   "id": "b4823b8f",
   "metadata": {},
   "outputs": [],
   "source": [
    "import os\n",
    "dir = '../../../data/Cidade de São Paulo/Interlagos/'\n",
    "\n",
    "if not os.path.exists(dir): \n",
    "    os.makedirs(dir)\n",
    "#se essa pasta não existir, crio ela"
   ]
  },
  {
   "cell_type": "code",
   "execution_count": 18,
   "id": "5d68d9c9",
   "metadata": {},
   "outputs": [],
   "source": [
    "core_cell.to_file(dir + 'cells_core.geojson')"
   ]
  },
  {
   "cell_type": "code",
   "execution_count": 24,
   "id": "f6593a9a",
   "metadata": {},
   "outputs": [],
   "source": [
    "cells_list = core_cells['cell'].tolist()"
   ]
  },
  {
   "cell_type": "code",
   "execution_count": 25,
   "id": "96f57ebc",
   "metadata": {},
   "outputs": [
    {
     "data": {
      "text/plain": [
       "[3962,\n",
       " 23831,\n",
       " 26399,\n",
       " 59638,\n",
       " 72864,\n",
       " 98169,\n",
       " 99508,\n",
       " 106281,\n",
       " 108682,\n",
       " 115579,\n",
       " 118284,\n",
       " 123599,\n",
       " 134191,\n",
       " 135479,\n",
       " 139433,\n",
       " 144902,\n",
       " 150163,\n",
       " 151473,\n",
       " 152809,\n",
       " 218936,\n",
       " 225578,\n",
       " 237561,\n",
       " 241565,\n",
       " 241566,\n",
       " 242861,\n",
       " 246798,\n",
       " 252039,\n",
       " 253317,\n",
       " 255969,\n",
       " 265215]"
      ]
     },
     "execution_count": 25,
     "metadata": {},
     "output_type": "execute_result"
    }
   ],
   "source": [
    "cells_list"
   ]
  },
  {
   "cell_type": "code",
   "execution_count": 26,
   "id": "add1a41b",
   "metadata": {},
   "outputs": [
    {
     "data": {
      "text/html": [
       "<div>\n",
       "<style scoped>\n",
       "    .dataframe tbody tr th:only-of-type {\n",
       "        vertical-align: middle;\n",
       "    }\n",
       "\n",
       "    .dataframe tbody tr th {\n",
       "        vertical-align: top;\n",
       "    }\n",
       "\n",
       "    .dataframe thead th {\n",
       "        text-align: right;\n",
       "    }\n",
       "</style>\n",
       "<table border=\"1\" class=\"dataframe\">\n",
       "  <thead>\n",
       "    <tr style=\"text-align: right;\">\n",
       "      <th></th>\n",
       "      <th>name</th>\n",
       "      <th>poly_type</th>\n",
       "      <th>geometry</th>\n",
       "    </tr>\n",
       "    <tr>\n",
       "      <th>ID</th>\n",
       "      <th></th>\n",
       "      <th></th>\n",
       "      <th></th>\n",
       "    </tr>\n",
       "  </thead>\n",
       "  <tbody>\n",
       "    <tr>\n",
       "      <th>0</th>\n",
       "      <td>Autodromo</td>\n",
       "      <td>core</td>\n",
       "      <td>MULTIPOLYGON (((-46.70288 -23.70238, -46.70288...</td>\n",
       "    </tr>\n",
       "  </tbody>\n",
       "</table>\n",
       "</div>"
      ],
      "text/plain": [
       "         name poly_type                                           geometry\n",
       "ID                                                                        \n",
       "0   Autodromo      core  MULTIPOLYGON (((-46.70288 -23.70238, -46.70288..."
      ]
     },
     "execution_count": 26,
     "metadata": {},
     "output_type": "execute_result"
    }
   ],
   "source": [
    "core_cell"
   ]
  },
  {
   "cell_type": "code",
   "execution_count": null,
   "id": "7e87a688",
   "metadata": {},
   "outputs": [],
   "source": []
  }
 ],
 "metadata": {
  "kernelspec": {
   "display_name": "Python 3 (ipykernel)",
   "language": "python",
   "name": "python3"
  },
  "language_info": {
   "codemirror_mode": {
    "name": "ipython",
    "version": 3
   },
   "file_extension": ".py",
   "mimetype": "text/x-python",
   "name": "python",
   "nbconvert_exporter": "python",
   "pygments_lexer": "ipython3",
   "version": "3.9.12"
  }
 },
 "nbformat": 4,
 "nbformat_minor": 5
}
