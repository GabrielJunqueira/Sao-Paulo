{
 "cells": [
  {
   "cell_type": "code",
   "execution_count": 8,
   "id": "74ec27e4",
   "metadata": {},
   "outputs": [],
   "source": [
    "import requests\n",
    "import json\n",
    "import numpy as np\n",
    "import pandas as pd\n",
    "import getpass\n",
    "from shapely.geometry import Point, Polygon\n",
    "import geopandas as gpd\n",
    "from geopandas import GeoDataFrame"
   ]
  },
  {
   "cell_type": "code",
   "execution_count": 11,
   "id": "fa70177e",
   "metadata": {},
   "outputs": [],
   "source": [
    "root = \"https://api.claro-br.kidodynamics.com/v1/\""
   ]
  },
  {
   "cell_type": "code",
   "execution_count": 2,
   "id": "2c2a735c",
   "metadata": {},
   "outputs": [],
   "source": [
    "cell_ids = [18505, 47652, 56833, 68676, 86100, 148628, 200132, 240236]"
   ]
  },
  {
   "cell_type": "code",
   "execution_count": 15,
   "id": "5401c314",
   "metadata": {},
   "outputs": [],
   "source": [
    "cell_ids = [3955, 18505, 39669, 47652, 56833, 57045, 68676, 84777, 86100, 87207, 99503, 127553, 148628, 158030, 200132, \n",
    "201703, 211037, 217324, 217541, 226891, 240236] "
   ]
  },
  {
   "cell_type": "markdown",
   "id": "051c32ba",
   "metadata": {},
   "source": [
    "# Login"
   ]
  },
  {
   "cell_type": "code",
   "execution_count": 9,
   "id": "09158cf6",
   "metadata": {},
   "outputs": [
    {
     "name": "stdout",
     "output_type": "stream",
     "text": [
      "Enter username:gabrieljunqueirasouza@hotmail.com\n",
      "Pass········\n"
     ]
    }
   ],
   "source": [
    "user = input('Enter username:')\n",
    "password = getpass.getpass('Pass')"
   ]
  },
  {
   "cell_type": "code",
   "execution_count": 12,
   "id": "ada93466",
   "metadata": {},
   "outputs": [],
   "source": [
    "login_response = requests.post(\n",
    "    root + 'users/login',\n",
    "    headers={\n",
    "        'accept': 'application/json',\n",
    "        'Content-Type': 'application/x-www-form-urlencoded',\n",
    "    },\n",
    "    data=f'grant_type=&username={user}&password={password}'\n",
    ")\n",
    "token = login_response.json()['access_token']"
   ]
  },
  {
   "cell_type": "code",
   "execution_count": 13,
   "id": "d5c5b8d7",
   "metadata": {},
   "outputs": [],
   "source": [
    "def headers(token):\n",
    "    return {\n",
    "        'accept': 'application/json',\n",
    "        'Authorization': f\"Bearer {token}\"\n",
    "    }"
   ]
  },
  {
   "cell_type": "markdown",
   "id": "97f86e72",
   "metadata": {},
   "source": [
    "## Getting the polygons of the cells"
   ]
  },
  {
   "cell_type": "code",
   "execution_count": 16,
   "id": "1cedc9f9",
   "metadata": {},
   "outputs": [
    {
     "name": "stderr",
     "output_type": "stream",
     "text": [
      "C:\\Users\\gabri\\anaconda3\\lib\\site-packages\\pyproj\\crs\\crs.py:141: FutureWarning: '+init=<authority>:<code>' syntax is deprecated. '<authority>:<code>' is the preferred initialization method. When making the change, be mindful of axis order changes: https://pyproj4.github.io/pyproj/stable/gotchas.html#axis-order-changes-in-proj-6\n",
      "  in_crs_string = _prepare_from_proj_string(in_crs_string)\n",
      "C:\\Users\\gabri\\anaconda3\\lib\\site-packages\\pyproj\\crs\\crs.py:141: FutureWarning: '+init=<authority>:<code>' syntax is deprecated. '<authority>:<code>' is the preferred initialization method. When making the change, be mindful of axis order changes: https://pyproj4.github.io/pyproj/stable/gotchas.html#axis-order-changes-in-proj-6\n",
      "  in_crs_string = _prepare_from_proj_string(in_crs_string)\n",
      "C:\\Users\\gabri\\anaconda3\\lib\\site-packages\\pyproj\\crs\\crs.py:141: FutureWarning: '+init=<authority>:<code>' syntax is deprecated. '<authority>:<code>' is the preferred initialization method. When making the change, be mindful of axis order changes: https://pyproj4.github.io/pyproj/stable/gotchas.html#axis-order-changes-in-proj-6\n",
      "  in_crs_string = _prepare_from_proj_string(in_crs_string)\n",
      "C:\\Users\\gabri\\anaconda3\\lib\\site-packages\\pyproj\\crs\\crs.py:141: FutureWarning: '+init=<authority>:<code>' syntax is deprecated. '<authority>:<code>' is the preferred initialization method. When making the change, be mindful of axis order changes: https://pyproj4.github.io/pyproj/stable/gotchas.html#axis-order-changes-in-proj-6\n",
      "  in_crs_string = _prepare_from_proj_string(in_crs_string)\n",
      "C:\\Users\\gabri\\anaconda3\\lib\\site-packages\\pyproj\\crs\\crs.py:141: FutureWarning: '+init=<authority>:<code>' syntax is deprecated. '<authority>:<code>' is the preferred initialization method. When making the change, be mindful of axis order changes: https://pyproj4.github.io/pyproj/stable/gotchas.html#axis-order-changes-in-proj-6\n",
      "  in_crs_string = _prepare_from_proj_string(in_crs_string)\n",
      "C:\\Users\\gabri\\anaconda3\\lib\\site-packages\\pyproj\\crs\\crs.py:141: FutureWarning: '+init=<authority>:<code>' syntax is deprecated. '<authority>:<code>' is the preferred initialization method. When making the change, be mindful of axis order changes: https://pyproj4.github.io/pyproj/stable/gotchas.html#axis-order-changes-in-proj-6\n",
      "  in_crs_string = _prepare_from_proj_string(in_crs_string)\n",
      "C:\\Users\\gabri\\anaconda3\\lib\\site-packages\\pyproj\\crs\\crs.py:141: FutureWarning: '+init=<authority>:<code>' syntax is deprecated. '<authority>:<code>' is the preferred initialization method. When making the change, be mindful of axis order changes: https://pyproj4.github.io/pyproj/stable/gotchas.html#axis-order-changes-in-proj-6\n",
      "  in_crs_string = _prepare_from_proj_string(in_crs_string)\n",
      "C:\\Users\\gabri\\anaconda3\\lib\\site-packages\\pyproj\\crs\\crs.py:141: FutureWarning: '+init=<authority>:<code>' syntax is deprecated. '<authority>:<code>' is the preferred initialization method. When making the change, be mindful of axis order changes: https://pyproj4.github.io/pyproj/stable/gotchas.html#axis-order-changes-in-proj-6\n",
      "  in_crs_string = _prepare_from_proj_string(in_crs_string)\n",
      "C:\\Users\\gabri\\anaconda3\\lib\\site-packages\\pyproj\\crs\\crs.py:141: FutureWarning: '+init=<authority>:<code>' syntax is deprecated. '<authority>:<code>' is the preferred initialization method. When making the change, be mindful of axis order changes: https://pyproj4.github.io/pyproj/stable/gotchas.html#axis-order-changes-in-proj-6\n",
      "  in_crs_string = _prepare_from_proj_string(in_crs_string)\n",
      "C:\\Users\\gabri\\anaconda3\\lib\\site-packages\\pyproj\\crs\\crs.py:141: FutureWarning: '+init=<authority>:<code>' syntax is deprecated. '<authority>:<code>' is the preferred initialization method. When making the change, be mindful of axis order changes: https://pyproj4.github.io/pyproj/stable/gotchas.html#axis-order-changes-in-proj-6\n",
      "  in_crs_string = _prepare_from_proj_string(in_crs_string)\n",
      "C:\\Users\\gabri\\anaconda3\\lib\\site-packages\\pyproj\\crs\\crs.py:141: FutureWarning: '+init=<authority>:<code>' syntax is deprecated. '<authority>:<code>' is the preferred initialization method. When making the change, be mindful of axis order changes: https://pyproj4.github.io/pyproj/stable/gotchas.html#axis-order-changes-in-proj-6\n",
      "  in_crs_string = _prepare_from_proj_string(in_crs_string)\n",
      "C:\\Users\\gabri\\anaconda3\\lib\\site-packages\\pyproj\\crs\\crs.py:141: FutureWarning: '+init=<authority>:<code>' syntax is deprecated. '<authority>:<code>' is the preferred initialization method. When making the change, be mindful of axis order changes: https://pyproj4.github.io/pyproj/stable/gotchas.html#axis-order-changes-in-proj-6\n",
      "  in_crs_string = _prepare_from_proj_string(in_crs_string)\n",
      "C:\\Users\\gabri\\anaconda3\\lib\\site-packages\\pyproj\\crs\\crs.py:141: FutureWarning: '+init=<authority>:<code>' syntax is deprecated. '<authority>:<code>' is the preferred initialization method. When making the change, be mindful of axis order changes: https://pyproj4.github.io/pyproj/stable/gotchas.html#axis-order-changes-in-proj-6\n",
      "  in_crs_string = _prepare_from_proj_string(in_crs_string)\n",
      "C:\\Users\\gabri\\anaconda3\\lib\\site-packages\\pyproj\\crs\\crs.py:141: FutureWarning: '+init=<authority>:<code>' syntax is deprecated. '<authority>:<code>' is the preferred initialization method. When making the change, be mindful of axis order changes: https://pyproj4.github.io/pyproj/stable/gotchas.html#axis-order-changes-in-proj-6\n",
      "  in_crs_string = _prepare_from_proj_string(in_crs_string)\n",
      "C:\\Users\\gabri\\anaconda3\\lib\\site-packages\\pyproj\\crs\\crs.py:141: FutureWarning: '+init=<authority>:<code>' syntax is deprecated. '<authority>:<code>' is the preferred initialization method. When making the change, be mindful of axis order changes: https://pyproj4.github.io/pyproj/stable/gotchas.html#axis-order-changes-in-proj-6\n",
      "  in_crs_string = _prepare_from_proj_string(in_crs_string)\n",
      "C:\\Users\\gabri\\anaconda3\\lib\\site-packages\\pyproj\\crs\\crs.py:141: FutureWarning: '+init=<authority>:<code>' syntax is deprecated. '<authority>:<code>' is the preferred initialization method. When making the change, be mindful of axis order changes: https://pyproj4.github.io/pyproj/stable/gotchas.html#axis-order-changes-in-proj-6\n",
      "  in_crs_string = _prepare_from_proj_string(in_crs_string)\n",
      "C:\\Users\\gabri\\anaconda3\\lib\\site-packages\\pyproj\\crs\\crs.py:141: FutureWarning: '+init=<authority>:<code>' syntax is deprecated. '<authority>:<code>' is the preferred initialization method. When making the change, be mindful of axis order changes: https://pyproj4.github.io/pyproj/stable/gotchas.html#axis-order-changes-in-proj-6\n",
      "  in_crs_string = _prepare_from_proj_string(in_crs_string)\n",
      "C:\\Users\\gabri\\anaconda3\\lib\\site-packages\\pyproj\\crs\\crs.py:141: FutureWarning: '+init=<authority>:<code>' syntax is deprecated. '<authority>:<code>' is the preferred initialization method. When making the change, be mindful of axis order changes: https://pyproj4.github.io/pyproj/stable/gotchas.html#axis-order-changes-in-proj-6\n",
      "  in_crs_string = _prepare_from_proj_string(in_crs_string)\n",
      "C:\\Users\\gabri\\anaconda3\\lib\\site-packages\\pyproj\\crs\\crs.py:141: FutureWarning: '+init=<authority>:<code>' syntax is deprecated. '<authority>:<code>' is the preferred initialization method. When making the change, be mindful of axis order changes: https://pyproj4.github.io/pyproj/stable/gotchas.html#axis-order-changes-in-proj-6\n",
      "  in_crs_string = _prepare_from_proj_string(in_crs_string)\n",
      "C:\\Users\\gabri\\anaconda3\\lib\\site-packages\\pyproj\\crs\\crs.py:141: FutureWarning: '+init=<authority>:<code>' syntax is deprecated. '<authority>:<code>' is the preferred initialization method. When making the change, be mindful of axis order changes: https://pyproj4.github.io/pyproj/stable/gotchas.html#axis-order-changes-in-proj-6\n",
      "  in_crs_string = _prepare_from_proj_string(in_crs_string)\n",
      "C:\\Users\\gabri\\anaconda3\\lib\\site-packages\\pyproj\\crs\\crs.py:141: FutureWarning: '+init=<authority>:<code>' syntax is deprecated. '<authority>:<code>' is the preferred initialization method. When making the change, be mindful of axis order changes: https://pyproj4.github.io/pyproj/stable/gotchas.html#axis-order-changes-in-proj-6\n",
      "  in_crs_string = _prepare_from_proj_string(in_crs_string)\n"
     ]
    }
   ],
   "source": [
    "DF = pd.DataFrame()\n",
    "df = pd.DataFrame()\n",
    "\n",
    "for cell in cell_ids:\n",
    "    \n",
    "    url = f\"https://api.claro-br.kidodynamics.com/v1/grid/cell_properties/{cell}?option=cell_shape\"\n",
    "    \n",
    "    response = requests.get(url, headers=headers(token))\n",
    "    data = json.loads(response.text)\n",
    "    dictionary = data[\"data\"][0][\"value\"] \n",
    "    \n",
    "    data = dictionary\n",
    "    \n",
    "    # Create a pandas dataframe\n",
    "    df = pd.DataFrame({'value': [1]})\n",
    "    \n",
    "    df[\"cell\"] = cell\n",
    "\n",
    "\n",
    "    # Create a shapely polygon object from the dict\n",
    "    polygon = Polygon(data['coordinates'][0])\n",
    "\n",
    "    # Create a GeoDataFrame from the pandas dataframe and the polygon object\n",
    "    gdf = GeoDataFrame(df, geometry=[polygon])\n",
    "\n",
    "    # Set the crs (Coordinate Reference System) for the GeoDataFrame\n",
    "    gdf.crs = {'init': 'epsg:4326'}\n",
    "        \n",
    "    DF = pd.concat([DF, df], axis=0)"
   ]
  },
  {
   "cell_type": "code",
   "execution_count": 17,
   "id": "079f5715",
   "metadata": {},
   "outputs": [],
   "source": [
    "gdf = GeoDataFrame(DF, geometry=DF[\"geometry\"])"
   ]
  },
  {
   "cell_type": "code",
   "execution_count": 18,
   "id": "67248ef0",
   "metadata": {},
   "outputs": [
    {
     "name": "stderr",
     "output_type": "stream",
     "text": [
      "C:\\Users\\gabri\\anaconda3\\lib\\site-packages\\pyproj\\crs\\crs.py:141: FutureWarning: '+init=<authority>:<code>' syntax is deprecated. '<authority>:<code>' is the preferred initialization method. When making the change, be mindful of axis order changes: https://pyproj4.github.io/pyproj/stable/gotchas.html#axis-order-changes-in-proj-6\n",
      "  in_crs_string = _prepare_from_proj_string(in_crs_string)\n"
     ]
    }
   ],
   "source": [
    "gdf.crs = {'init': 'epsg:4326'}"
   ]
  },
  {
   "cell_type": "code",
   "execution_count": 19,
   "id": "65164c66",
   "metadata": {},
   "outputs": [],
   "source": [
    "gdf.reset_index(inplace=True)\n",
    "gdf = gdf[[\"cell\", \"geometry\"]]"
   ]
  },
  {
   "cell_type": "code",
   "execution_count": 20,
   "id": "debd093a",
   "metadata": {},
   "outputs": [
    {
     "data": {
      "text/plain": [
       "<AxesSubplot: >"
      ]
     },
     "execution_count": 20,
     "metadata": {},
     "output_type": "execute_result"
    },
    {
     "data": {
      "image/png": "[encoded data removed]",
      "text/plain": [
       "<Figure size 432x288 with 1 Axes>"
      ]
     },
     "metadata": {
      "needs_background": "light"
     },
     "output_type": "display_data"
    }
   ],
   "source": [
    "gdf.plot()"
   ]
  },
  {
   "cell_type": "code",
   "execution_count": 21,
   "id": "bd811e4c",
   "metadata": {},
   "outputs": [],
   "source": [
    "villa_lobos = gpd.read_file('../../../data/Cidade de São Paulo/Parques/villa_lobos.geojson')\n",
    "villa_lobos_buffer = gpd.read_file('../../../data/Cidade de São Paulo/Parques/villa_lobos_buffer.geojson')"
   ]
  },
  {
   "cell_type": "code",
   "execution_count": 22,
   "id": "71e150dc",
   "metadata": {},
   "outputs": [
    {
     "data": {
      "text/plain": [
       "<AxesSubplot: >"
      ]
     },
     "execution_count": 22,
     "metadata": {},
     "output_type": "execute_result"
    },
    {
     "data": {
      "image/png": "[encoded data removed]",
      "text/plain": [
       "<Figure size 864x576 with 1 Axes>"
      ]
     },
     "metadata": {
      "needs_background": "light"
     },
     "output_type": "display_data"
    }
   ],
   "source": [
    "ax = villa_lobos_buffer.plot(color=\"yellow\", figsize=(12,8))\n",
    "villa_lobos.plot(ax=ax, color=\"green\", figsize=(12,8))\n",
    "gdf.plot(ax=ax, color=\"none\", figsize=(12,8))"
   ]
  },
  {
   "cell_type": "code",
   "execution_count": 164,
   "id": "3ce7c0b0",
   "metadata": {},
   "outputs": [],
   "source": [
    "alb_gdf = teste.drop([9, 18, 13, 10, 7, 5, 15, 2, 19], axis=0)"
   ]
  },
  {
   "cell_type": "code",
   "execution_count": 30,
   "id": "e5120199",
   "metadata": {},
   "outputs": [],
   "source": [
    "alb_gdf2 = gdf.drop([9, 18, 13, 10, 7, 5, 15, 2, 19], axis=0)"
   ]
  },
  {
   "cell_type": "code",
   "execution_count": 24,
   "id": "b1551780",
   "metadata": {},
   "outputs": [
    {
     "data": {
      "text/html": [
       "<div>\n",
       "<style scoped>\n",
       "    .dataframe tbody tr th:only-of-type {\n",
       "        vertical-align: middle;\n",
       "    }\n",
       "\n",
       "    .dataframe tbody tr th {\n",
       "        vertical-align: top;\n",
       "    }\n",
       "\n",
       "    .dataframe thead th {\n",
       "        text-align: right;\n",
       "    }\n",
       "</style>\n",
       "<table border=\"1\" class=\"dataframe\">\n",
       "  <thead>\n",
       "    <tr style=\"text-align: right;\">\n",
       "      <th></th>\n",
       "      <th>cell</th>\n",
       "      <th>geometry</th>\n",
       "    </tr>\n",
       "  </thead>\n",
       "  <tbody>\n",
       "    <tr>\n",
       "      <th>0</th>\n",
       "      <td>3955</td>\n",
       "      <td>POLYGON ((-46.73035 -23.54133, -46.73035 -23.5...</td>\n",
       "    </tr>\n",
       "    <tr>\n",
       "      <th>1</th>\n",
       "      <td>18505</td>\n",
       "      <td>POLYGON ((-46.71661 -23.54385, -46.71661 -23.5...</td>\n",
       "    </tr>\n",
       "    <tr>\n",
       "      <th>3</th>\n",
       "      <td>47652</td>\n",
       "      <td>POLYGON ((-46.72760 -23.54133, -46.72760 -23.5...</td>\n",
       "    </tr>\n",
       "    <tr>\n",
       "      <th>4</th>\n",
       "      <td>56833</td>\n",
       "      <td>POLYGON ((-46.71936 -23.54385, -46.71936 -23.5...</td>\n",
       "    </tr>\n",
       "    <tr>\n",
       "      <th>6</th>\n",
       "      <td>68676</td>\n",
       "      <td>POLYGON ((-46.72485 -23.54385, -46.72485 -23.5...</td>\n",
       "    </tr>\n",
       "    <tr>\n",
       "      <th>8</th>\n",
       "      <td>86100</td>\n",
       "      <td>POLYGON ((-46.72485 -23.54133, -46.72485 -23.5...</td>\n",
       "    </tr>\n",
       "    <tr>\n",
       "      <th>11</th>\n",
       "      <td>127553</td>\n",
       "      <td>POLYGON ((-46.71661 -23.54888, -46.71661 -23.5...</td>\n",
       "    </tr>\n",
       "    <tr>\n",
       "      <th>12</th>\n",
       "      <td>148628</td>\n",
       "      <td>POLYGON ((-46.72485 -23.54888, -46.72485 -23.5...</td>\n",
       "    </tr>\n",
       "    <tr>\n",
       "      <th>14</th>\n",
       "      <td>200132</td>\n",
       "      <td>POLYGON ((-46.71936 -23.54888, -46.71936 -23.5...</td>\n",
       "    </tr>\n",
       "    <tr>\n",
       "      <th>16</th>\n",
       "      <td>211037</td>\n",
       "      <td>POLYGON ((-46.72760 -23.53881, -46.72760 -23.5...</td>\n",
       "    </tr>\n",
       "    <tr>\n",
       "      <th>17</th>\n",
       "      <td>217324</td>\n",
       "      <td>POLYGON ((-46.73035 -23.54385, -46.73035 -23.5...</td>\n",
       "    </tr>\n",
       "    <tr>\n",
       "      <th>20</th>\n",
       "      <td>240236</td>\n",
       "      <td>POLYGON ((-46.71661 -23.54636, -46.71661 -23.5...</td>\n",
       "    </tr>\n",
       "  </tbody>\n",
       "</table>\n",
       "</div>"
      ],
      "text/plain": [
       "      cell                                           geometry\n",
       "0     3955  POLYGON ((-46.73035 -23.54133, -46.73035 -23.5...\n",
       "1    18505  POLYGON ((-46.71661 -23.54385, -46.71661 -23.5...\n",
       "3    47652  POLYGON ((-46.72760 -23.54133, -46.72760 -23.5...\n",
       "4    56833  POLYGON ((-46.71936 -23.54385, -46.71936 -23.5...\n",
       "6    68676  POLYGON ((-46.72485 -23.54385, -46.72485 -23.5...\n",
       "8    86100  POLYGON ((-46.72485 -23.54133, -46.72485 -23.5...\n",
       "11  127553  POLYGON ((-46.71661 -23.54888, -46.71661 -23.5...\n",
       "12  148628  POLYGON ((-46.72485 -23.54888, -46.72485 -23.5...\n",
       "14  200132  POLYGON ((-46.71936 -23.54888, -46.71936 -23.5...\n",
       "16  211037  POLYGON ((-46.72760 -23.53881, -46.72760 -23.5...\n",
       "17  217324  POLYGON ((-46.73035 -23.54385, -46.73035 -23.5...\n",
       "20  240236  POLYGON ((-46.71661 -23.54636, -46.71661 -23.5..."
      ]
     },
     "execution_count": 24,
     "metadata": {},
     "output_type": "execute_result"
    }
   ],
   "source": [
    "alb_gdf2"
   ]
  },
  {
   "cell_type": "code",
   "execution_count": 25,
   "id": "26a00a04",
   "metadata": {},
   "outputs": [
    {
     "data": {
      "text/plain": [
       "<AxesSubplot: >"
      ]
     },
     "execution_count": 25,
     "metadata": {},
     "output_type": "execute_result"
    },
    {
     "data": {
      "image/png": "[encoded data removed]",
      "text/plain": [
       "<Figure size 864x576 with 1 Axes>"
      ]
     },
     "metadata": {
      "needs_background": "light"
     },
     "output_type": "display_data"
    }
   ],
   "source": [
    "ax = villa_lobos_buffer.plot(color=\"yellow\", figsize=(12,8))\n",
    "villa_lobos.plot(ax=ax, color=\"green\", figsize=(12,8))\n",
    "alb_gdf2.plot(ax=ax, color=\"none\", figsize=(12,8))"
   ]
  },
  {
   "cell_type": "code",
   "execution_count": 48,
   "id": "80276c15",
   "metadata": {},
   "outputs": [],
   "source": [
    "problema = alb_gdf2[alb_gdf2[\"cell\"] == 47652]\n",
    "problema2 = alb_gdf2[alb_gdf2[\"cell\"] == 68676]\n",
    "\n",
    "PF = pd.concat([problema, problema2], axis=0, ignore_index=True)"
   ]
  },
  {
   "cell_type": "code",
   "execution_count": 50,
   "id": "fc284e1a",
   "metadata": {},
   "outputs": [
    {
     "data": {
      "text/plain": [
       "<AxesSubplot: >"
      ]
     },
     "execution_count": 50,
     "metadata": {},
     "output_type": "execute_result"
    },
    {
     "data": {
      "image/png": "[encoded data removed]",
      "text/plain": [
       "<Figure size 432x288 with 1 Axes>"
      ]
     },
     "metadata": {
      "needs_background": "light"
     },
     "output_type": "display_data"
    }
   ],
   "source": [
    "PF.plot()"
   ]
  },
  {
   "cell_type": "code",
   "execution_count": 32,
   "id": "3ac37391",
   "metadata": {},
   "outputs": [],
   "source": [
    "alb_gdf2.to_csv(\"cells.csv\")"
   ]
  },
  {
   "cell_type": "code",
   "execution_count": 31,
   "id": "0027db47",
   "metadata": {},
   "outputs": [],
   "source": [
    "alb_gdf2.to_file(\"cells.geojson\")"
   ]
  },
  {
   "cell_type": "code",
   "execution_count": 33,
   "id": "2a77fae9",
   "metadata": {},
   "outputs": [
    {
     "ename": "FionaCPLError",
     "evalue": "The wrapped function returned an error code, but no error message was set.",
     "output_type": "error",
     "traceback": [
      "\u001b[1;31m---------------------------------------------------------------------------\u001b[0m",
      "\u001b[1;31mFionaCPLError\u001b[0m                             Traceback (most recent call last)",
      "Input \u001b[1;32mIn [33]\u001b[0m, in \u001b[0;36m<cell line: 1>\u001b[1;34m()\u001b[0m\n\u001b[1;32m----> 1\u001b[0m \u001b[43malb_gdf2\u001b[49m\u001b[38;5;241;43m.\u001b[39;49m\u001b[43mto_file\u001b[49m\u001b[43m(\u001b[49m\u001b[38;5;124;43m\"\u001b[39;49m\u001b[38;5;124;43mcells_csv.csv\u001b[39;49m\u001b[38;5;124;43m\"\u001b[39;49m\u001b[43m)\u001b[49m\n",
      "File \u001b[1;32m~\\anaconda3\\lib\\site-packages\\geopandas\\geodataframe.py:1203\u001b[0m, in \u001b[0;36mGeoDataFrame.to_file\u001b[1;34m(self, filename, driver, schema, index, **kwargs)\u001b[0m\n\u001b[0;32m   1120\u001b[0m \u001b[38;5;124;03m\"\"\"Write the ``GeoDataFrame`` to a file.\u001b[39;00m\n\u001b[0;32m   1121\u001b[0m \n\u001b[0;32m   1122\u001b[0m \u001b[38;5;124;03mBy default, an ESRI shapefile is written, but any OGR data source\u001b[39;00m\n\u001b[1;32m   (...)\u001b[0m\n\u001b[0;32m   1199\u001b[0m \u001b[38;5;124;03m>>> gdf.to_file('dataframe.shp', mode=\"a\")  # doctest: +SKIP\u001b[39;00m\n\u001b[0;32m   1200\u001b[0m \u001b[38;5;124;03m\"\"\"\u001b[39;00m\n\u001b[0;32m   1201\u001b[0m \u001b[38;5;28;01mfrom\u001b[39;00m \u001b[38;5;21;01mgeopandas\u001b[39;00m\u001b[38;5;21;01m.\u001b[39;00m\u001b[38;5;21;01mio\u001b[39;00m\u001b[38;5;21;01m.\u001b[39;00m\u001b[38;5;21;01mfile\u001b[39;00m \u001b[38;5;28;01mimport\u001b[39;00m _to_file\n\u001b[1;32m-> 1203\u001b[0m _to_file(\u001b[38;5;28mself\u001b[39m, filename, driver, schema, index, \u001b[38;5;241m*\u001b[39m\u001b[38;5;241m*\u001b[39mkwargs)\n",
      "File \u001b[1;32m~\\anaconda3\\lib\\site-packages\\geopandas\\io\\file.py:545\u001b[0m, in \u001b[0;36m_to_file\u001b[1;34m(df, filename, driver, schema, index, mode, crs, engine, **kwargs)\u001b[0m\n\u001b[0;32m    538\u001b[0m     warnings\u001b[38;5;241m.\u001b[39mwarn(\n\u001b[0;32m    539\u001b[0m         \u001b[38;5;124m\"\u001b[39m\u001b[38;5;124mColumn names longer than 10 characters will be truncated when saved to \u001b[39m\u001b[38;5;124m\"\u001b[39m\n\u001b[0;32m    540\u001b[0m         \u001b[38;5;124m\"\u001b[39m\u001b[38;5;124mESRI Shapefile.\u001b[39m\u001b[38;5;124m\"\u001b[39m,\n\u001b[0;32m    541\u001b[0m         stacklevel\u001b[38;5;241m=\u001b[39m\u001b[38;5;241m3\u001b[39m,\n\u001b[0;32m    542\u001b[0m     )\n\u001b[0;32m    544\u001b[0m \u001b[38;5;28;01mif\u001b[39;00m engine \u001b[38;5;241m==\u001b[39m \u001b[38;5;124m\"\u001b[39m\u001b[38;5;124mfiona\u001b[39m\u001b[38;5;124m\"\u001b[39m:\n\u001b[1;32m--> 545\u001b[0m     _to_file_fiona(df, filename, driver, schema, crs, mode, \u001b[38;5;241m*\u001b[39m\u001b[38;5;241m*\u001b[39mkwargs)\n\u001b[0;32m    546\u001b[0m \u001b[38;5;28;01melif\u001b[39;00m engine \u001b[38;5;241m==\u001b[39m \u001b[38;5;124m\"\u001b[39m\u001b[38;5;124mpyogrio\u001b[39m\u001b[38;5;124m\"\u001b[39m:\n\u001b[0;32m    547\u001b[0m     _to_file_pyogrio(df, filename, driver, schema, crs, mode, \u001b[38;5;241m*\u001b[39m\u001b[38;5;241m*\u001b[39mkwargs)\n",
      "File \u001b[1;32m~\\anaconda3\\lib\\site-packages\\geopandas\\io\\file.py:575\u001b[0m, in \u001b[0;36m_to_file_fiona\u001b[1;34m(df, filename, driver, schema, crs, mode, **kwargs)\u001b[0m\n\u001b[0;32m    571\u001b[0m     crs_wkt \u001b[38;5;241m=\u001b[39m crs\u001b[38;5;241m.\u001b[39mto_wkt(\u001b[38;5;124m\"\u001b[39m\u001b[38;5;124mWKT1_GDAL\u001b[39m\u001b[38;5;124m\"\u001b[39m)\n\u001b[0;32m    572\u001b[0m \u001b[38;5;28;01mwith\u001b[39;00m fiona\u001b[38;5;241m.\u001b[39mopen(\n\u001b[0;32m    573\u001b[0m     filename, mode\u001b[38;5;241m=\u001b[39mmode, driver\u001b[38;5;241m=\u001b[39mdriver, crs_wkt\u001b[38;5;241m=\u001b[39mcrs_wkt, schema\u001b[38;5;241m=\u001b[39mschema, \u001b[38;5;241m*\u001b[39m\u001b[38;5;241m*\u001b[39mkwargs\n\u001b[0;32m    574\u001b[0m ) \u001b[38;5;28;01mas\u001b[39;00m colxn:\n\u001b[1;32m--> 575\u001b[0m     \u001b[43mcolxn\u001b[49m\u001b[38;5;241;43m.\u001b[39;49m\u001b[43mwriterecords\u001b[49m\u001b[43m(\u001b[49m\u001b[43mdf\u001b[49m\u001b[38;5;241;43m.\u001b[39;49m\u001b[43miterfeatures\u001b[49m\u001b[43m(\u001b[49m\u001b[43m)\u001b[49m\u001b[43m)\u001b[49m\n",
      "File \u001b[1;32m~\\anaconda3\\lib\\site-packages\\fiona\\collection.py:361\u001b[0m, in \u001b[0;36mCollection.writerecords\u001b[1;34m(self, records)\u001b[0m\n\u001b[0;32m    359\u001b[0m \u001b[38;5;28;01mif\u001b[39;00m \u001b[38;5;28mself\u001b[39m\u001b[38;5;241m.\u001b[39mmode \u001b[38;5;129;01mnot\u001b[39;00m \u001b[38;5;129;01min\u001b[39;00m (\u001b[38;5;124m'\u001b[39m\u001b[38;5;124ma\u001b[39m\u001b[38;5;124m'\u001b[39m, \u001b[38;5;124m'\u001b[39m\u001b[38;5;124mw\u001b[39m\u001b[38;5;124m'\u001b[39m):\n\u001b[0;32m    360\u001b[0m     \u001b[38;5;28;01mraise\u001b[39;00m \u001b[38;5;167;01mIOError\u001b[39;00m(\u001b[38;5;124m\"\u001b[39m\u001b[38;5;124mcollection not open for writing\u001b[39m\u001b[38;5;124m\"\u001b[39m)\n\u001b[1;32m--> 361\u001b[0m \u001b[38;5;28;43mself\u001b[39;49m\u001b[38;5;241;43m.\u001b[39;49m\u001b[43msession\u001b[49m\u001b[38;5;241;43m.\u001b[39;49m\u001b[43mwriterecs\u001b[49m\u001b[43m(\u001b[49m\u001b[43mrecords\u001b[49m\u001b[43m,\u001b[49m\u001b[43m \u001b[49m\u001b[38;5;28;43mself\u001b[39;49m\u001b[43m)\u001b[49m\n\u001b[0;32m    362\u001b[0m \u001b[38;5;28mself\u001b[39m\u001b[38;5;241m.\u001b[39m_len \u001b[38;5;241m=\u001b[39m \u001b[38;5;28mself\u001b[39m\u001b[38;5;241m.\u001b[39msession\u001b[38;5;241m.\u001b[39mget_length()\n\u001b[0;32m    363\u001b[0m \u001b[38;5;28mself\u001b[39m\u001b[38;5;241m.\u001b[39m_bounds \u001b[38;5;241m=\u001b[39m \u001b[38;5;28;01mNone\u001b[39;00m\n",
      "File \u001b[1;32mfiona\\ogrext.pyx:1291\u001b[0m, in \u001b[0;36mfiona.ogrext.WritingSession.writerecs\u001b[1;34m()\u001b[0m\n",
      "File \u001b[1;32mfiona\\ogrext.pyx:354\u001b[0m, in \u001b[0;36mfiona.ogrext.OGRFeatureBuilder.build\u001b[1;34m()\u001b[0m\n",
      "File \u001b[1;32mfiona\\_err.pyx:269\u001b[0m, in \u001b[0;36mfiona._err.exc_wrap_int\u001b[1;34m()\u001b[0m\n",
      "\u001b[1;31mFionaCPLError\u001b[0m: The wrapped function returned an error code, but no error message was set."
     ]
    }
   ],
   "source": [
    "alb_gdf2.to_file(\"cells_csv.csv\")"
   ]
  },
  {
   "cell_type": "markdown",
   "id": "48fbee6a",
   "metadata": {},
   "source": [
    "## Merging all polygons into 1 polygon "
   ]
  },
  {
   "cell_type": "code",
   "execution_count": 32,
   "id": "2d9eb7c0",
   "metadata": {},
   "outputs": [
    {
     "name": "stderr",
     "output_type": "stream",
     "text": [
      "C:\\Users\\gabri\\AppData\\Local\\Temp\\ipykernel_18300\\175896379.py:5: ShapelyDeprecationWarning: The 'cascaded_union()' function is deprecated. Use 'unary_union()' instead.\n",
      "  merged_polygons = cascaded_union(polygons)\n",
      "C:\\Users\\gabri\\AppData\\Local\\Temp\\ipykernel_18300\\175896379.py:11: SettingWithCopyWarning: \n",
      "A value is trying to be set on a copy of a slice from a DataFrame\n",
      "\n",
      "See the caveats in the documentation: https://pandas.pydata.org/pandas-docs/stable/user_guide/indexing.html#returning-a-view-versus-a-copy\n",
      "  merged_gdf2.loc[0, \"geometry\"] = merged_polygons\n"
     ]
    }
   ],
   "source": [
    "from shapely.ops import cascaded_union\n",
    "from shapely.geometry import Polygon, MultiPolygon\n",
    "\n",
    "polygons = [row.geometry for i, row in alb_gdf2.iterrows()]\n",
    "merged_polygons = cascaded_union(polygons)\n",
    "\n",
    "if type(merged_polygons) == Polygon:\n",
    "    merged_polygons = MultiPolygon([merged_polygons])\n",
    "\n",
    "merged_gdf2 = alb_gdf2.iloc[0:0]\n",
    "merged_gdf2.loc[0, \"geometry\"] = merged_polygons"
   ]
  },
  {
   "cell_type": "code",
   "execution_count": 33,
   "id": "bd345b8e",
   "metadata": {},
   "outputs": [
    {
     "data": {
      "text/plain": [
       "shapely.geometry.multipolygon.MultiPolygon"
      ]
     },
     "execution_count": 33,
     "metadata": {},
     "output_type": "execute_result"
    }
   ],
   "source": [
    "type(merged_polygons)"
   ]
  },
  {
   "cell_type": "markdown",
   "id": "43d2f540",
   "metadata": {},
   "source": [
    "## Making it a geodataframe"
   ]
  },
  {
   "cell_type": "code",
   "execution_count": 34,
   "id": "dea10132",
   "metadata": {},
   "outputs": [],
   "source": [
    "merged_gdf = gpd.GeoDataFrame(index=[0], crs=gdf.crs, geometry=[merged_polygons])"
   ]
  },
  {
   "cell_type": "code",
   "execution_count": 35,
   "id": "87dbe2b6",
   "metadata": {},
   "outputs": [
    {
     "data": {
      "text/html": [
       "<div>\n",
       "<style scoped>\n",
       "    .dataframe tbody tr th:only-of-type {\n",
       "        vertical-align: middle;\n",
       "    }\n",
       "\n",
       "    .dataframe tbody tr th {\n",
       "        vertical-align: top;\n",
       "    }\n",
       "\n",
       "    .dataframe thead th {\n",
       "        text-align: right;\n",
       "    }\n",
       "</style>\n",
       "<table border=\"1\" class=\"dataframe\">\n",
       "  <thead>\n",
       "    <tr style=\"text-align: right;\">\n",
       "      <th></th>\n",
       "      <th>geometry</th>\n",
       "    </tr>\n",
       "  </thead>\n",
       "  <tbody>\n",
       "    <tr>\n",
       "      <th>0</th>\n",
       "      <td>MULTIPOLYGON (((-46.73035 -23.54888, -46.73584...</td>\n",
       "    </tr>\n",
       "  </tbody>\n",
       "</table>\n",
       "</div>"
      ],
      "text/plain": [
       "                                            geometry\n",
       "0  MULTIPOLYGON (((-46.73035 -23.54888, -46.73584..."
      ]
     },
     "execution_count": 35,
     "metadata": {},
     "output_type": "execute_result"
    }
   ],
   "source": [
    "merged_gdf"
   ]
  },
  {
   "cell_type": "markdown",
   "id": "95ccda74",
   "metadata": {},
   "source": [
    "## Saving"
   ]
  },
  {
   "cell_type": "code",
   "execution_count": 183,
   "id": "10a507d1",
   "metadata": {},
   "outputs": [],
   "source": [
    "import os\n",
    "dir = '../../../data/Cidade de São Paulo/Parques'\n",
    "\n",
    "if not os.path.exists(dir): \n",
    "    os.makedirs(dir)\n",
    "#se essa pasta não existir, crio ela"
   ]
  },
  {
   "cell_type": "code",
   "execution_count": 184,
   "id": "34fe0544",
   "metadata": {},
   "outputs": [],
   "source": [
    "merged_gdf.to_file(dir + '/villa_lobos_cells.geojson')"
   ]
  },
  {
   "cell_type": "code",
   "execution_count": null,
   "id": "58f50060",
   "metadata": {},
   "outputs": [],
   "source": [
    "interlagos.to_file(dir + 'interlagos.geojson')"
   ]
  },
  {
   "cell_type": "code",
   "execution_count": 34,
   "id": "23ad9db1",
   "metadata": {},
   "outputs": [
    {
     "data": {
      "text/html": [
       "<div>\n",
       "<style scoped>\n",
       "    .dataframe tbody tr th:only-of-type {\n",
       "        vertical-align: middle;\n",
       "    }\n",
       "\n",
       "    .dataframe tbody tr th {\n",
       "        vertical-align: top;\n",
       "    }\n",
       "\n",
       "    .dataframe thead th {\n",
       "        text-align: right;\n",
       "    }\n",
       "</style>\n",
       "<table border=\"1\" class=\"dataframe\">\n",
       "  <thead>\n",
       "    <tr style=\"text-align: right;\">\n",
       "      <th></th>\n",
       "      <th>Unnamed: 0</th>\n",
       "      <th>cell</th>\n",
       "      <th>geometry</th>\n",
       "    </tr>\n",
       "  </thead>\n",
       "  <tbody>\n",
       "    <tr>\n",
       "      <th>0</th>\n",
       "      <td>0</td>\n",
       "      <td>3955</td>\n",
       "      <td>POLYGON ((-46.7303466796875 -23.54132717050546...</td>\n",
       "    </tr>\n",
       "    <tr>\n",
       "      <th>1</th>\n",
       "      <td>1</td>\n",
       "      <td>18505</td>\n",
       "      <td>POLYGON ((-46.71661376953125 -23.5438451365058...</td>\n",
       "    </tr>\n",
       "    <tr>\n",
       "      <th>2</th>\n",
       "      <td>3</td>\n",
       "      <td>47652</td>\n",
       "      <td>POLYGON ((-46.72760009765625 -23.5413271705054...</td>\n",
       "    </tr>\n",
       "    <tr>\n",
       "      <th>3</th>\n",
       "      <td>4</td>\n",
       "      <td>56833</td>\n",
       "      <td>POLYGON ((-46.7193603515625 -23.54384513650584...</td>\n",
       "    </tr>\n",
       "    <tr>\n",
       "      <th>4</th>\n",
       "      <td>6</td>\n",
       "      <td>68676</td>\n",
       "      <td>POLYGON ((-46.724853515625 -23.54384513650584,...</td>\n",
       "    </tr>\n",
       "    <tr>\n",
       "      <th>5</th>\n",
       "      <td>8</td>\n",
       "      <td>86100</td>\n",
       "      <td>POLYGON ((-46.724853515625 -23.54132717050546,...</td>\n",
       "    </tr>\n",
       "    <tr>\n",
       "      <th>6</th>\n",
       "      <td>11</td>\n",
       "      <td>127553</td>\n",
       "      <td>POLYGON ((-46.71661376953125 -23.5488809238587...</td>\n",
       "    </tr>\n",
       "    <tr>\n",
       "      <th>7</th>\n",
       "      <td>12</td>\n",
       "      <td>148628</td>\n",
       "      <td>POLYGON ((-46.724853515625 -23.54888092385875,...</td>\n",
       "    </tr>\n",
       "    <tr>\n",
       "      <th>8</th>\n",
       "      <td>14</td>\n",
       "      <td>200132</td>\n",
       "      <td>POLYGON ((-46.7193603515625 -23.54888092385875...</td>\n",
       "    </tr>\n",
       "    <tr>\n",
       "      <th>9</th>\n",
       "      <td>16</td>\n",
       "      <td>211037</td>\n",
       "      <td>POLYGON ((-46.72760009765625 -23.5388091562943...</td>\n",
       "    </tr>\n",
       "    <tr>\n",
       "      <th>10</th>\n",
       "      <td>17</td>\n",
       "      <td>217324</td>\n",
       "      <td>POLYGON ((-46.7303466796875 -23.54384513650584...</td>\n",
       "    </tr>\n",
       "    <tr>\n",
       "      <th>11</th>\n",
       "      <td>20</td>\n",
       "      <td>240236</td>\n",
       "      <td>POLYGON ((-46.71661376953125 -23.5463630542915...</td>\n",
       "    </tr>\n",
       "  </tbody>\n",
       "</table>\n",
       "</div>"
      ],
      "text/plain": [
       "    Unnamed: 0    cell                                           geometry\n",
       "0            0    3955  POLYGON ((-46.7303466796875 -23.54132717050546...\n",
       "1            1   18505  POLYGON ((-46.71661376953125 -23.5438451365058...\n",
       "2            3   47652  POLYGON ((-46.72760009765625 -23.5413271705054...\n",
       "3            4   56833  POLYGON ((-46.7193603515625 -23.54384513650584...\n",
       "4            6   68676  POLYGON ((-46.724853515625 -23.54384513650584,...\n",
       "5            8   86100  POLYGON ((-46.724853515625 -23.54132717050546,...\n",
       "6           11  127553  POLYGON ((-46.71661376953125 -23.5488809238587...\n",
       "7           12  148628  POLYGON ((-46.724853515625 -23.54888092385875,...\n",
       "8           14  200132  POLYGON ((-46.7193603515625 -23.54888092385875...\n",
       "9           16  211037  POLYGON ((-46.72760009765625 -23.5388091562943...\n",
       "10          17  217324  POLYGON ((-46.7303466796875 -23.54384513650584...\n",
       "11          20  240236  POLYGON ((-46.71661376953125 -23.5463630542915..."
      ]
     },
     "execution_count": 34,
     "metadata": {},
     "output_type": "execute_result"
    }
   ],
   "source": [
    "pd.read_csv(\"cells.csv\")"
   ]
  },
  {
   "cell_type": "code",
   "execution_count": 47,
   "id": "43db505f",
   "metadata": {},
   "outputs": [
    {
     "name": "stderr",
     "output_type": "stream",
     "text": [
      "C:\\Users\\gabri\\AppData\\Local\\Temp\\ipykernel_16912\\2320114490.py:7: UserWarning: Geometry is in a geographic CRS. Results from 'centroid' are likely incorrect. Use 'GeoSeries.to_crs()' to re-project geometries to a projected CRS before this operation.\n",
      "\n",
      "  for x, y, label in zip(alb_gdf2.geometry.centroid.x, alb_gdf2.geometry.centroid.y, alb_gdf2['cell']):\n",
      "C:\\Users\\gabri\\AppData\\Local\\Temp\\ipykernel_16912\\2320114490.py:7: UserWarning: Geometry is in a geographic CRS. Results from 'centroid' are likely incorrect. Use 'GeoSeries.to_crs()' to re-project geometries to a projected CRS before this operation.\n",
      "\n",
      "  for x, y, label in zip(alb_gdf2.geometry.centroid.x, alb_gdf2.geometry.centroid.y, alb_gdf2['cell']):\n"
     ]
    },
    {
     "data": {
      "image/png": "[encoded data removed]",
      "text/plain": [
       "<Figure size 1296x1080 with 1 Axes>"
      ]
     },
     "metadata": {
      "needs_background": "light"
     },
     "output_type": "display_data"
    }
   ],
   "source": [
    "ax1 = villa_lobos.plot(color=\"limegreen\", figsize=(18,15))\n",
    "\n",
    "# Plot the GeoDataFrame\n",
    "ax = alb_gdf2.plot(ax=ax1, color='none', figsize=(18,15))\n",
    "\n",
    "# Add the text labels for the \"name\" column inside each polygon\n",
    "for x, y, label in zip(alb_gdf2.geometry.centroid.x, alb_gdf2.geometry.centroid.y, alb_gdf2['cell']):\n",
    "    ax.text(x, y, label, ha='center', va='center')\n",
    "    "
   ]
  },
  {
   "cell_type": "code",
   "execution_count": null,
   "id": "8bd415b7",
   "metadata": {},
   "outputs": [],
   "source": []
  }
 ],
 "metadata": {
  "kernelspec": {
   "display_name": "Python 3 (ipykernel)",
   "language": "python",
   "name": "python3"
  },
  "language_info": {
   "codemirror_mode": {
    "name": "ipython",
    "version": 3
   },
   "file_extension": ".py",
   "mimetype": "text/x-python",
   "name": "python",
   "nbconvert_exporter": "python",
   "pygments_lexer": "ipython3",
   "version": "3.9.12"
  }
 },
 "nbformat": 4,
 "nbformat_minor": 5
}
