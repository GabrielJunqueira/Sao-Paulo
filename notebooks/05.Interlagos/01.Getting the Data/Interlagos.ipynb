{
 "cells": [
  {
   "cell_type": "code",
   "execution_count": 8,
   "id": "df723572",
   "metadata": {},
   "outputs": [],
   "source": [
    "import pandas as pd\n",
    "import geopandas as gpd\n",
    "from shapely.geometry import Polygon"
   ]
  },
  {
   "cell_type": "markdown",
   "id": "64ff9fc5",
   "metadata": {},
   "source": [
    "## Getting Interlagos GeoDataframe"
   ]
  },
  {
   "cell_type": "code",
   "execution_count": 12,
   "id": "cb7b18e0",
   "metadata": {},
   "outputs": [
    {
     "name": "stderr",
     "output_type": "stream",
     "text": [
      "C:\\Users\\gabri\\anaconda3\\lib\\site-packages\\pyproj\\crs\\crs.py:141: FutureWarning: '+init=<authority>:<code>' syntax is deprecated. '<authority>:<code>' is the preferred initialization method. When making the change, be mindful of axis order changes: https://pyproj4.github.io/pyproj/stable/gotchas.html#axis-order-changes-in-proj-6\n",
      "  in_crs_string = _prepare_from_proj_string(in_crs_string)\n"
     ]
    }
   ],
   "source": [
    "import geopandas as gpd\n",
    "from shapely.geometry import Polygon\n",
    "\n",
    "# Create a list of tuples with the coordinates (from the draw)\n",
    "coordinates = [[[\n",
    "        -46.7013917,\n",
    "        -23.7020581\n",
    "      ],\n",
    "      [\n",
    "        -46.700469,\n",
    "        -23.7062649\n",
    "      ],\n",
    "      [\n",
    "        -46.6998682,\n",
    "        -23.706776\n",
    "      ],\n",
    "      [\n",
    "        -46.6995249,\n",
    "        -23.7070118\n",
    "      ],\n",
    "      [\n",
    "        -46.6991386,\n",
    "        -23.7071494\n",
    "      ],\n",
    "      [\n",
    "        -46.6985378,\n",
    "        -23.7073657\n",
    "      ],\n",
    "      [\n",
    "        -46.6978941,\n",
    "        -23.7074443\n",
    "      ],\n",
    "      [\n",
    "        -46.6972289,\n",
    "        -23.7075623\n",
    "      ],\n",
    "      [\n",
    "        -46.6963491,\n",
    "        -23.7075623\n",
    "      ],\n",
    "      [\n",
    "        -46.695684,\n",
    "        -23.7073264\n",
    "      ],\n",
    "      [\n",
    "        -46.6952333,\n",
    "        -23.7070315\n",
    "      ],\n",
    "      [\n",
    "        -46.6950831,\n",
    "        -23.7066973\n",
    "      ],\n",
    "      [\n",
    "        -46.6948042,\n",
    "        -23.7063238\n",
    "      ],\n",
    "      [\n",
    "        -46.6922293,\n",
    "        -23.6968289\n",
    "      ],\n",
    "      [\n",
    "        -46.6924009,\n",
    "        -23.696475\n",
    "      ],\n",
    "      [\n",
    "        -46.692637,\n",
    "        -23.6961605\n",
    "      ],\n",
    "      [\n",
    "        -46.6930017,\n",
    "        -23.6960032\n",
    "      ],\n",
    "      [\n",
    "        -46.693388,\n",
    "        -23.6959049\n",
    "      ],\n",
    "      [\n",
    "        -46.6939244,\n",
    "        -23.6959246\n",
    "      ],\n",
    "      [\n",
    "        -46.6945896,\n",
    "        -23.6959246\n",
    "      ],\n",
    "      [\n",
    "        -46.6953835,\n",
    "        -23.6960032\n",
    "      ],\n",
    "      [\n",
    "        -46.6961775,\n",
    "        -23.6960818\n",
    "      ],\n",
    "      [\n",
    "        -46.6967998,\n",
    "        -23.6961212\n",
    "      ],\n",
    "      [\n",
    "        -46.6975508,\n",
    "        -23.6961801\n",
    "      ],\n",
    "      [\n",
    "        -46.6981516,\n",
    "        -23.6962588\n",
    "      ],\n",
    "      [\n",
    "        -46.6986666,\n",
    "        -23.6963964\n",
    "      ],\n",
    "      [\n",
    "        -46.6990099,\n",
    "        -23.6968879\n",
    "      ],\n",
    "      [\n",
    "        -46.6993532,\n",
    "        -23.6969861\n",
    "      ],\n",
    "      [\n",
    "        -46.6996322,\n",
    "        -23.6970844\n",
    "      ],\n",
    "      [\n",
    "        -46.6999755,\n",
    "        -23.6972417\n",
    "      ],\n",
    "      [\n",
    "        -46.700233,\n",
    "        -23.6973597\n",
    "      ],\n",
    "      [\n",
    "        -46.7002974,\n",
    "        -23.6976546\n",
    "      ],\n",
    "      [\n",
    "        -46.7014346,\n",
    "        -23.701429\n",
    "      ],\n",
    "      [\n",
    "        -46.7013917,\n",
    "        -23.7020581\n",
    "      ]]]\n",
    "\n",
    "# Create the Polygon object\n",
    "poly = Polygon(coordinates[0])\n",
    "\n",
    "# Create the GeoDataFrame\n",
    "df = gpd.GeoDataFrame(geometry=[poly], crs={'init': 'epsg:4326'})\n"
   ]
  },
  {
   "cell_type": "code",
   "execution_count": 13,
   "id": "bf58df79",
   "metadata": {},
   "outputs": [
    {
     "data": {
      "text/plain": [
       "<AxesSubplot: >"
      ]
     },
     "execution_count": 13,
     "metadata": {},
     "output_type": "execute_result"
    },
    {
     "data": {
      "image/png": "[encoded data removed]",
      "text/plain": [
       "<Figure size 432x288 with 1 Axes>"
      ]
     },
     "metadata": {
      "needs_background": "light"
     },
     "output_type": "display_data"
    }
   ],
   "source": [
    "df.plot()"
   ]
  },
  {
   "cell_type": "code",
   "execution_count": 14,
   "id": "ea7d631e",
   "metadata": {},
   "outputs": [],
   "source": [
    "interlagos = df"
   ]
  },
  {
   "cell_type": "markdown",
   "id": "9a14db3b",
   "metadata": {},
   "source": [
    "## Saving"
   ]
  },
  {
   "cell_type": "code",
   "execution_count": 15,
   "id": "b61cb787",
   "metadata": {},
   "outputs": [],
   "source": [
    "import os\n",
    "dir = '../../data/Cidade de São Paulo/Interlagos/'\n",
    "\n",
    "if not os.path.exists(dir): \n",
    "    os.makedirs(dir)\n",
    "#se essa pasta não existir, crio ela"
   ]
  },
  {
   "cell_type": "code",
   "execution_count": 16,
   "id": "a88ec1a2",
   "metadata": {},
   "outputs": [],
   "source": [
    "interlagos.to_file(dir + 'interlagos.geojson')"
   ]
  },
  {
   "cell_type": "code",
   "execution_count": 18,
   "id": "44591980",
   "metadata": {},
   "outputs": [
    {
     "data": {
      "text/plain": [
       "<AxesSubplot: >"
      ]
     },
     "execution_count": 18,
     "metadata": {},
     "output_type": "execute_result"
    },
    {
     "data": {
      "image/png": "[encoded data removed]",
      "text/plain": [
       "<Figure size 864x576 with 1 Axes>"
      ]
     },
     "metadata": {
      "needs_background": "light"
     },
     "output_type": "display_data"
    }
   ],
   "source": [
    "interlagos.plot(color='white', edgecolor='black', figsize=(12,8))"
   ]
  },
  {
   "cell_type": "code",
   "execution_count": null,
   "id": "b50daac6",
   "metadata": {},
   "outputs": [],
   "source": []
  }
 ],
 "metadata": {
  "kernelspec": {
   "display_name": "Python 3 (ipykernel)",
   "language": "python",
   "name": "python3"
  },
  "language_info": {
   "codemirror_mode": {
    "name": "ipython",
    "version": 3
   },
   "file_extension": ".py",
   "mimetype": "text/x-python",
   "name": "python",
   "nbconvert_exporter": "python",
   "pygments_lexer": "ipython3",
   "version": "3.9.12"
  }
 },
 "nbformat": 4,
 "nbformat_minor": 5
}
