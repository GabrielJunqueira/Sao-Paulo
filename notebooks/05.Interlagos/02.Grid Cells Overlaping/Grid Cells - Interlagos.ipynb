{
 "cells": [
  {
   "cell_type": "code",
   "execution_count": 30,
   "id": "4665249a",
   "metadata": {},
   "outputs": [],
   "source": [
    "import pandas as pd\n",
    "import geopandas as gpd\n",
    "from geopandas import GeoSeries\n",
    "%matplotlib inline\n",
    "import matplotlib.pyplot as plt\n",
    "from shapely.ops import cascaded_union\n",
    "from shapely.geometry import Point, LineString, Polygon\n",
    "from functools import partial\n",
    "import pyproj\n",
    "from shapely.ops import transform\n",
    "import numpy as np\n",
    "from geopandas import GeoDataFrame\n",
    "\n",
    "import requests\n",
    "import json\n",
    "import getpass"
   ]
  },
  {
   "cell_type": "code",
   "execution_count": 2,
   "id": "5573c24e",
   "metadata": {},
   "outputs": [],
   "source": [
    "interlagos = gpd.read_file(\"../../../data/Cidade de São Paulo/Interlagos/interlagos.geojson\")"
   ]
  },
  {
   "cell_type": "code",
   "execution_count": 71,
   "id": "01989db9",
   "metadata": {},
   "outputs": [],
   "source": [
    "pista = gpd.read_file(\"../../../../TESTES - Automating the Project/interlagos.geojson\")"
   ]
  },
  {
   "cell_type": "markdown",
   "id": "b7995b47",
   "metadata": {},
   "source": [
    "## Getting the buffer of Interlagos"
   ]
  },
  {
   "cell_type": "code",
   "execution_count": 47,
   "id": "e476f133",
   "metadata": {},
   "outputs": [],
   "source": [
    "#this function is called only if the lat, lon point given is from a building\n",
    "#receives the polygon of the building\n",
    "#output: gdf of buffer area of the building (dist=0.003)\n",
    "def get_buffer(building):\n",
    "    buffer_building = building.buffer(distance=0.007)\n",
    "    \n",
    "    distance = 0.00125\n",
    "    \n",
    "    #making buffer a geodataframe\n",
    "    buffer_gdf = gpd.GeoDataFrame(buffer_building)\n",
    "    \n",
    "    #setting buffer's geometry\n",
    "    geometria = building['geometry'].buffer(distance) \n",
    "    buffer_gdf.set_geometry(geometria, inplace=True)\n",
    "    \n",
    "    return(buffer_gdf)"
   ]
  },
  {
   "cell_type": "code",
   "execution_count": 48,
   "id": "9db43ac1",
   "metadata": {},
   "outputs": [
    {
     "name": "stderr",
     "output_type": "stream",
     "text": [
      "C:\\Users\\gabri\\AppData\\Local\\Temp\\ipykernel_14548\\2087438035.py:5: UserWarning: Geometry is in a geographic CRS. Results from 'buffer' are likely incorrect. Use 'GeoSeries.to_crs()' to re-project geometries to a projected CRS before this operation.\n",
      "\n",
      "  buffer_building = building.buffer(distance=0.007)\n",
      "C:\\Users\\gabri\\AppData\\Local\\Temp\\ipykernel_14548\\2087438035.py:13: UserWarning: Geometry is in a geographic CRS. Results from 'buffer' are likely incorrect. Use 'GeoSeries.to_crs()' to re-project geometries to a projected CRS before this operation.\n",
      "\n",
      "  geometria = building['geometry'].buffer(distance)\n"
     ]
    }
   ],
   "source": [
    "buffer_interlagos = get_buffer(interlagos)"
   ]
  },
  {
   "cell_type": "code",
   "execution_count": 15,
   "id": "45457b20",
   "metadata": {},
   "outputs": [],
   "source": [
    "buffer_interlagos[\"poly_type\"] = \"core\"\n",
    "buffer_interlagos['ID'] = np.arange(len(buffer_interlagos))\n",
    "buffer_interlagos.set_index('ID', inplace=True)\n",
    "buffer_interlagos = buffer_interlagos[[\"poly_type\", \"geometry\"]]"
   ]
  },
  {
   "cell_type": "code",
   "execution_count": 16,
   "id": "897db7c5",
   "metadata": {},
   "outputs": [
    {
     "data": {
      "text/html": [
       "<div>\n",
       "<style scoped>\n",
       "    .dataframe tbody tr th:only-of-type {\n",
       "        vertical-align: middle;\n",
       "    }\n",
       "\n",
       "    .dataframe tbody tr th {\n",
       "        vertical-align: top;\n",
       "    }\n",
       "\n",
       "    .dataframe thead th {\n",
       "        text-align: right;\n",
       "    }\n",
       "</style>\n",
       "<table border=\"1\" class=\"dataframe\">\n",
       "  <thead>\n",
       "    <tr style=\"text-align: right;\">\n",
       "      <th></th>\n",
       "      <th>poly_type</th>\n",
       "      <th>geometry</th>\n",
       "    </tr>\n",
       "    <tr>\n",
       "      <th>ID</th>\n",
       "      <th></th>\n",
       "      <th></th>\n",
       "    </tr>\n",
       "  </thead>\n",
       "  <tbody>\n",
       "    <tr>\n",
       "      <th>0</th>\n",
       "      <td>core</td>\n",
       "      <td>POLYGON ((-46.70438 -23.70226, -46.70443 -23.7...</td>\n",
       "    </tr>\n",
       "  </tbody>\n",
       "</table>\n",
       "</div>"
      ],
      "text/plain": [
       "   poly_type                                           geometry\n",
       "ID                                                             \n",
       "0       core  POLYGON ((-46.70438 -23.70226, -46.70443 -23.7..."
      ]
     },
     "execution_count": 16,
     "metadata": {},
     "output_type": "execute_result"
    }
   ],
   "source": [
    "buffer_interlagos"
   ]
  },
  {
   "cell_type": "markdown",
   "id": "6f4ff122",
   "metadata": {},
   "source": [
    "## Getting Grid Cells Overlapping"
   ]
  },
  {
   "cell_type": "code",
   "execution_count": 17,
   "id": "5daca94e",
   "metadata": {},
   "outputs": [],
   "source": [
    "def get_Cell_IDs(polygon_gdf):\n",
    "    \n",
    "    # Get the bounding box of the polygon\n",
    "    minx, miny, maxx, maxy = polygon_gdf.geometry.total_bounds\n",
    "    \n",
    "    # Generate a grid of points covering the bounding box\n",
    "    x, y = np.meshgrid(np.arange(minx, maxx, 0.002), np.arange(miny, maxy, 0.002))\n",
    "    grid_points = gpd.GeoDataFrame({'geometry': [Point(x, y) for x, y in zip(x.flatten(), y.flatten())]})\n",
    "    \n",
    "    # Determine which points are inside the polygon\n",
    "    inside = grid_points.within(polygon_gdf.iloc[0].geometry)\n",
    "    \n",
    "    # Extract the latitude and longitude of the points that are inside the polygon\n",
    "    lon_lat = grid_points[inside].apply(lambda x: x.geometry.coords[0], axis=1).values\n",
    "    \n",
    "    # Convert the lat_lon list of tuples into a GeoDataFrame\n",
    "    points = gpd.GeoDataFrame(geometry=[Point(lat, lon) for lat, lon in lon_lat])\n",
    "\n",
    "    # Set the coordinate reference system (CRS) of the GeoDataFrame to WGS 84 (EPSG 4326)\n",
    "    points.crs = {'init': 'epsg:4326'}\n",
    "    \n",
    "    # API script:\n",
    "    \n",
    "    root = \"https://api.claro-br.kidodynamics.com/v1/\"\n",
    "\n",
    "    # Login\n",
    "    user = input('Enter username:')\n",
    "    password = getpass.getpass('Pass')\n",
    "    \n",
    "    login_response = requests.post(\n",
    "        root + 'users/login',\n",
    "        headers={\n",
    "            'accept': 'application/json',\n",
    "            'Content-Type': 'application/x-www-form-urlencoded',\n",
    "        },\n",
    "        data=f'grant_type=&username={user}&password={password}'\n",
    "    )\n",
    "    token = login_response.json()['access_token']\n",
    "    \n",
    "    def headers(token):\n",
    "        return {\n",
    "            'accept': 'application/json',\n",
    "            'Authorization': f\"Bearer {token}\"\n",
    "        }\n",
    "    \n",
    "    # List to store the cell IDs\n",
    "    cell_ids = []\n",
    "\n",
    "    # Set to store the collected cell IDs\n",
    "    collected_cell_ids = set()\n",
    "    \n",
    "    # Loop through each latitude-longitude pair in lat_lon\n",
    "    for lon, lat in lon_lat:\n",
    "        # Format the API URL with the latitude and longitude\n",
    "        url = f\"https://api.claro-br.kidodynamics.com/v1/grid/cell_from_point?lat={lat}&lon={lon}\"\n",
    "    \n",
    "        # Check if the request was successful\n",
    "        #if response.status_code == 200:\n",
    "            # Extract the cell ID from the response JSON\n",
    "        response = requests.get(url)\n",
    "    \n",
    "        data = json.loads(response.text)\n",
    "        cell_id = data[\"data\"][0][\"value\"]\n",
    "        \n",
    "        # Check if the cell ID has already been collected\n",
    "        if cell_id not in collected_cell_ids:\n",
    "            # Append the cell ID to the cell_ids list\n",
    "            cell_ids.append(cell_id)\n",
    "            \n",
    "            # Add the cell ID to the collected_cell_ids set\n",
    "            collected_cell_ids.add(cell_id)\n",
    "            \n",
    "    return(collected_cell_ids)"
   ]
  },
  {
   "cell_type": "code",
   "execution_count": 20,
   "id": "b07eebb8",
   "metadata": {},
   "outputs": [
    {
     "name": "stderr",
     "output_type": "stream",
     "text": [
      "C:\\Users\\gabri\\anaconda3\\lib\\site-packages\\pyproj\\crs\\crs.py:141: FutureWarning: '+init=<authority>:<code>' syntax is deprecated. '<authority>:<code>' is the preferred initialization method. When making the change, be mindful of axis order changes: https://pyproj4.github.io/pyproj/stable/gotchas.html#axis-order-changes-in-proj-6\n",
      "  in_crs_string = _prepare_from_proj_string(in_crs_string)\n"
     ]
    },
    {
     "name": "stdout",
     "output_type": "stream",
     "text": [
      "Enter username:gabrieljunqueirasouza@hotmail.com\n",
      "Pass········\n"
     ]
    }
   ],
   "source": [
    "cells = get_Cell_IDs(buffer_interlagos)"
   ]
  },
  {
   "cell_type": "code",
   "execution_count": 22,
   "id": "7bcd9b89",
   "metadata": {},
   "outputs": [],
   "source": [
    "cells_ids = [3962, 23831, 26399, 59638, 72864, 98169, 99508, 105776, 106281, 108682, 115579, 118284, 123599, 134191, 135479,\n",
    "139433, 144902, 150163, 151473, 152809, 218936, 225578, 237561, 241565, 241566, 242861, 246798, 252039, 253317, 255969, 265215]"
   ]
  },
  {
   "cell_type": "markdown",
   "id": "928b4559",
   "metadata": {},
   "source": [
    "## Getting data from those cells"
   ]
  },
  {
   "cell_type": "markdown",
   "id": "7a039d29",
   "metadata": {},
   "source": [
    "### Login"
   ]
  },
  {
   "cell_type": "code",
   "execution_count": 23,
   "id": "2e360c19",
   "metadata": {},
   "outputs": [
    {
     "name": "stdout",
     "output_type": "stream",
     "text": [
      "Enter username:gabrieljunqueirasouza@hotmail.com\n",
      "Pass········\n"
     ]
    }
   ],
   "source": [
    "user = input('Enter username:')\n",
    "password = getpass.getpass('Pass')"
   ]
  },
  {
   "cell_type": "code",
   "execution_count": 25,
   "id": "aa71d725",
   "metadata": {},
   "outputs": [],
   "source": [
    "root = \"https://api.claro-br.kidodynamics.com/v1/\""
   ]
  },
  {
   "cell_type": "code",
   "execution_count": 26,
   "id": "ce5dabbe",
   "metadata": {},
   "outputs": [],
   "source": [
    "login_response = requests.post(\n",
    "    root + 'users/login',\n",
    "    headers={\n",
    "        'accept': 'application/json',\n",
    "        'Content-Type': 'application/x-www-form-urlencoded',\n",
    "    },\n",
    "    data=f'grant_type=&username={user}&password={password}'\n",
    ")\n",
    "token = login_response.json()['access_token']"
   ]
  },
  {
   "cell_type": "code",
   "execution_count": 27,
   "id": "379bcb97",
   "metadata": {},
   "outputs": [],
   "source": [
    "def headers(token):\n",
    "    return {\n",
    "        'accept': 'application/json',\n",
    "        'Authorization': f\"Bearer {token}\"\n",
    "    }"
   ]
  },
  {
   "cell_type": "markdown",
   "id": "6246d20f",
   "metadata": {},
   "source": [
    "### Getting the polygon of those cells"
   ]
  },
  {
   "cell_type": "code",
   "execution_count": 31,
   "id": "84496f23",
   "metadata": {},
   "outputs": [
    {
     "name": "stderr",
     "output_type": "stream",
     "text": [
      "C:\\Users\\gabri\\anaconda3\\lib\\site-packages\\pyproj\\crs\\crs.py:141: FutureWarning: '+init=<authority>:<code>' syntax is deprecated. '<authority>:<code>' is the preferred initialization method. When making the change, be mindful of axis order changes: https://pyproj4.github.io/pyproj/stable/gotchas.html#axis-order-changes-in-proj-6\n",
      "  in_crs_string = _prepare_from_proj_string(in_crs_string)\n",
      "C:\\Users\\gabri\\anaconda3\\lib\\site-packages\\pyproj\\crs\\crs.py:141: FutureWarning: '+init=<authority>:<code>' syntax is deprecated. '<authority>:<code>' is the preferred initialization method. When making the change, be mindful of axis order changes: https://pyproj4.github.io/pyproj/stable/gotchas.html#axis-order-changes-in-proj-6\n",
      "  in_crs_string = _prepare_from_proj_string(in_crs_string)\n",
      "C:\\Users\\gabri\\anaconda3\\lib\\site-packages\\pyproj\\crs\\crs.py:141: FutureWarning: '+init=<authority>:<code>' syntax is deprecated. '<authority>:<code>' is the preferred initialization method. When making the change, be mindful of axis order changes: https://pyproj4.github.io/pyproj/stable/gotchas.html#axis-order-changes-in-proj-6\n",
      "  in_crs_string = _prepare_from_proj_string(in_crs_string)\n",
      "C:\\Users\\gabri\\anaconda3\\lib\\site-packages\\pyproj\\crs\\crs.py:141: FutureWarning: '+init=<authority>:<code>' syntax is deprecated. '<authority>:<code>' is the preferred initialization method. When making the change, be mindful of axis order changes: https://pyproj4.github.io/pyproj/stable/gotchas.html#axis-order-changes-in-proj-6\n",
      "  in_crs_string = _prepare_from_proj_string(in_crs_string)\n",
      "C:\\Users\\gabri\\anaconda3\\lib\\site-packages\\pyproj\\crs\\crs.py:141: FutureWarning: '+init=<authority>:<code>' syntax is deprecated. '<authority>:<code>' is the preferred initialization method. When making the change, be mindful of axis order changes: https://pyproj4.github.io/pyproj/stable/gotchas.html#axis-order-changes-in-proj-6\n",
      "  in_crs_string = _prepare_from_proj_string(in_crs_string)\n",
      "C:\\Users\\gabri\\anaconda3\\lib\\site-packages\\pyproj\\crs\\crs.py:141: FutureWarning: '+init=<authority>:<code>' syntax is deprecated. '<authority>:<code>' is the preferred initialization method. When making the change, be mindful of axis order changes: https://pyproj4.github.io/pyproj/stable/gotchas.html#axis-order-changes-in-proj-6\n",
      "  in_crs_string = _prepare_from_proj_string(in_crs_string)\n",
      "C:\\Users\\gabri\\anaconda3\\lib\\site-packages\\pyproj\\crs\\crs.py:141: FutureWarning: '+init=<authority>:<code>' syntax is deprecated. '<authority>:<code>' is the preferred initialization method. When making the change, be mindful of axis order changes: https://pyproj4.github.io/pyproj/stable/gotchas.html#axis-order-changes-in-proj-6\n",
      "  in_crs_string = _prepare_from_proj_string(in_crs_string)\n",
      "C:\\Users\\gabri\\anaconda3\\lib\\site-packages\\pyproj\\crs\\crs.py:141: FutureWarning: '+init=<authority>:<code>' syntax is deprecated. '<authority>:<code>' is the preferred initialization method. When making the change, be mindful of axis order changes: https://pyproj4.github.io/pyproj/stable/gotchas.html#axis-order-changes-in-proj-6\n",
      "  in_crs_string = _prepare_from_proj_string(in_crs_string)\n",
      "C:\\Users\\gabri\\anaconda3\\lib\\site-packages\\pyproj\\crs\\crs.py:141: FutureWarning: '+init=<authority>:<code>' syntax is deprecated. '<authority>:<code>' is the preferred initialization method. When making the change, be mindful of axis order changes: https://pyproj4.github.io/pyproj/stable/gotchas.html#axis-order-changes-in-proj-6\n",
      "  in_crs_string = _prepare_from_proj_string(in_crs_string)\n",
      "C:\\Users\\gabri\\anaconda3\\lib\\site-packages\\pyproj\\crs\\crs.py:141: FutureWarning: '+init=<authority>:<code>' syntax is deprecated. '<authority>:<code>' is the preferred initialization method. When making the change, be mindful of axis order changes: https://pyproj4.github.io/pyproj/stable/gotchas.html#axis-order-changes-in-proj-6\n",
      "  in_crs_string = _prepare_from_proj_string(in_crs_string)\n",
      "C:\\Users\\gabri\\anaconda3\\lib\\site-packages\\pyproj\\crs\\crs.py:141: FutureWarning: '+init=<authority>:<code>' syntax is deprecated. '<authority>:<code>' is the preferred initialization method. When making the change, be mindful of axis order changes: https://pyproj4.github.io/pyproj/stable/gotchas.html#axis-order-changes-in-proj-6\n",
      "  in_crs_string = _prepare_from_proj_string(in_crs_string)\n",
      "C:\\Users\\gabri\\anaconda3\\lib\\site-packages\\pyproj\\crs\\crs.py:141: FutureWarning: '+init=<authority>:<code>' syntax is deprecated. '<authority>:<code>' is the preferred initialization method. When making the change, be mindful of axis order changes: https://pyproj4.github.io/pyproj/stable/gotchas.html#axis-order-changes-in-proj-6\n",
      "  in_crs_string = _prepare_from_proj_string(in_crs_string)\n",
      "C:\\Users\\gabri\\anaconda3\\lib\\site-packages\\pyproj\\crs\\crs.py:141: FutureWarning: '+init=<authority>:<code>' syntax is deprecated. '<authority>:<code>' is the preferred initialization method. When making the change, be mindful of axis order changes: https://pyproj4.github.io/pyproj/stable/gotchas.html#axis-order-changes-in-proj-6\n",
      "  in_crs_string = _prepare_from_proj_string(in_crs_string)\n",
      "C:\\Users\\gabri\\anaconda3\\lib\\site-packages\\pyproj\\crs\\crs.py:141: FutureWarning: '+init=<authority>:<code>' syntax is deprecated. '<authority>:<code>' is the preferred initialization method. When making the change, be mindful of axis order changes: https://pyproj4.github.io/pyproj/stable/gotchas.html#axis-order-changes-in-proj-6\n",
      "  in_crs_string = _prepare_from_proj_string(in_crs_string)\n",
      "C:\\Users\\gabri\\anaconda3\\lib\\site-packages\\pyproj\\crs\\crs.py:141: FutureWarning: '+init=<authority>:<code>' syntax is deprecated. '<authority>:<code>' is the preferred initialization method. When making the change, be mindful of axis order changes: https://pyproj4.github.io/pyproj/stable/gotchas.html#axis-order-changes-in-proj-6\n",
      "  in_crs_string = _prepare_from_proj_string(in_crs_string)\n",
      "C:\\Users\\gabri\\anaconda3\\lib\\site-packages\\pyproj\\crs\\crs.py:141: FutureWarning: '+init=<authority>:<code>' syntax is deprecated. '<authority>:<code>' is the preferred initialization method. When making the change, be mindful of axis order changes: https://pyproj4.github.io/pyproj/stable/gotchas.html#axis-order-changes-in-proj-6\n",
      "  in_crs_string = _prepare_from_proj_string(in_crs_string)\n",
      "C:\\Users\\gabri\\anaconda3\\lib\\site-packages\\pyproj\\crs\\crs.py:141: FutureWarning: '+init=<authority>:<code>' syntax is deprecated. '<authority>:<code>' is the preferred initialization method. When making the change, be mindful of axis order changes: https://pyproj4.github.io/pyproj/stable/gotchas.html#axis-order-changes-in-proj-6\n",
      "  in_crs_string = _prepare_from_proj_string(in_crs_string)\n",
      "C:\\Users\\gabri\\anaconda3\\lib\\site-packages\\pyproj\\crs\\crs.py:141: FutureWarning: '+init=<authority>:<code>' syntax is deprecated. '<authority>:<code>' is the preferred initialization method. When making the change, be mindful of axis order changes: https://pyproj4.github.io/pyproj/stable/gotchas.html#axis-order-changes-in-proj-6\n",
      "  in_crs_string = _prepare_from_proj_string(in_crs_string)\n",
      "C:\\Users\\gabri\\anaconda3\\lib\\site-packages\\pyproj\\crs\\crs.py:141: FutureWarning: '+init=<authority>:<code>' syntax is deprecated. '<authority>:<code>' is the preferred initialization method. When making the change, be mindful of axis order changes: https://pyproj4.github.io/pyproj/stable/gotchas.html#axis-order-changes-in-proj-6\n",
      "  in_crs_string = _prepare_from_proj_string(in_crs_string)\n",
      "C:\\Users\\gabri\\anaconda3\\lib\\site-packages\\pyproj\\crs\\crs.py:141: FutureWarning: '+init=<authority>:<code>' syntax is deprecated. '<authority>:<code>' is the preferred initialization method. When making the change, be mindful of axis order changes: https://pyproj4.github.io/pyproj/stable/gotchas.html#axis-order-changes-in-proj-6\n",
      "  in_crs_string = _prepare_from_proj_string(in_crs_string)\n",
      "C:\\Users\\gabri\\anaconda3\\lib\\site-packages\\pyproj\\crs\\crs.py:141: FutureWarning: '+init=<authority>:<code>' syntax is deprecated. '<authority>:<code>' is the preferred initialization method. When making the change, be mindful of axis order changes: https://pyproj4.github.io/pyproj/stable/gotchas.html#axis-order-changes-in-proj-6\n",
      "  in_crs_string = _prepare_from_proj_string(in_crs_string)\n",
      "C:\\Users\\gabri\\anaconda3\\lib\\site-packages\\pyproj\\crs\\crs.py:141: FutureWarning: '+init=<authority>:<code>' syntax is deprecated. '<authority>:<code>' is the preferred initialization method. When making the change, be mindful of axis order changes: https://pyproj4.github.io/pyproj/stable/gotchas.html#axis-order-changes-in-proj-6\n",
      "  in_crs_string = _prepare_from_proj_string(in_crs_string)\n"
     ]
    },
    {
     "name": "stderr",
     "output_type": "stream",
     "text": [
      "C:\\Users\\gabri\\anaconda3\\lib\\site-packages\\pyproj\\crs\\crs.py:141: FutureWarning: '+init=<authority>:<code>' syntax is deprecated. '<authority>:<code>' is the preferred initialization method. When making the change, be mindful of axis order changes: https://pyproj4.github.io/pyproj/stable/gotchas.html#axis-order-changes-in-proj-6\n",
      "  in_crs_string = _prepare_from_proj_string(in_crs_string)\n",
      "C:\\Users\\gabri\\anaconda3\\lib\\site-packages\\pyproj\\crs\\crs.py:141: FutureWarning: '+init=<authority>:<code>' syntax is deprecated. '<authority>:<code>' is the preferred initialization method. When making the change, be mindful of axis order changes: https://pyproj4.github.io/pyproj/stable/gotchas.html#axis-order-changes-in-proj-6\n",
      "  in_crs_string = _prepare_from_proj_string(in_crs_string)\n",
      "C:\\Users\\gabri\\anaconda3\\lib\\site-packages\\pyproj\\crs\\crs.py:141: FutureWarning: '+init=<authority>:<code>' syntax is deprecated. '<authority>:<code>' is the preferred initialization method. When making the change, be mindful of axis order changes: https://pyproj4.github.io/pyproj/stable/gotchas.html#axis-order-changes-in-proj-6\n",
      "  in_crs_string = _prepare_from_proj_string(in_crs_string)\n",
      "C:\\Users\\gabri\\anaconda3\\lib\\site-packages\\pyproj\\crs\\crs.py:141: FutureWarning: '+init=<authority>:<code>' syntax is deprecated. '<authority>:<code>' is the preferred initialization method. When making the change, be mindful of axis order changes: https://pyproj4.github.io/pyproj/stable/gotchas.html#axis-order-changes-in-proj-6\n",
      "  in_crs_string = _prepare_from_proj_string(in_crs_string)\n",
      "C:\\Users\\gabri\\anaconda3\\lib\\site-packages\\pyproj\\crs\\crs.py:141: FutureWarning: '+init=<authority>:<code>' syntax is deprecated. '<authority>:<code>' is the preferred initialization method. When making the change, be mindful of axis order changes: https://pyproj4.github.io/pyproj/stable/gotchas.html#axis-order-changes-in-proj-6\n",
      "  in_crs_string = _prepare_from_proj_string(in_crs_string)\n",
      "C:\\Users\\gabri\\anaconda3\\lib\\site-packages\\pyproj\\crs\\crs.py:141: FutureWarning: '+init=<authority>:<code>' syntax is deprecated. '<authority>:<code>' is the preferred initialization method. When making the change, be mindful of axis order changes: https://pyproj4.github.io/pyproj/stable/gotchas.html#axis-order-changes-in-proj-6\n",
      "  in_crs_string = _prepare_from_proj_string(in_crs_string)\n",
      "C:\\Users\\gabri\\anaconda3\\lib\\site-packages\\pyproj\\crs\\crs.py:141: FutureWarning: '+init=<authority>:<code>' syntax is deprecated. '<authority>:<code>' is the preferred initialization method. When making the change, be mindful of axis order changes: https://pyproj4.github.io/pyproj/stable/gotchas.html#axis-order-changes-in-proj-6\n",
      "  in_crs_string = _prepare_from_proj_string(in_crs_string)\n",
      "C:\\Users\\gabri\\anaconda3\\lib\\site-packages\\pyproj\\crs\\crs.py:141: FutureWarning: '+init=<authority>:<code>' syntax is deprecated. '<authority>:<code>' is the preferred initialization method. When making the change, be mindful of axis order changes: https://pyproj4.github.io/pyproj/stable/gotchas.html#axis-order-changes-in-proj-6\n",
      "  in_crs_string = _prepare_from_proj_string(in_crs_string)\n",
      "C:\\Users\\gabri\\anaconda3\\lib\\site-packages\\pyproj\\crs\\crs.py:141: FutureWarning: '+init=<authority>:<code>' syntax is deprecated. '<authority>:<code>' is the preferred initialization method. When making the change, be mindful of axis order changes: https://pyproj4.github.io/pyproj/stable/gotchas.html#axis-order-changes-in-proj-6\n",
      "  in_crs_string = _prepare_from_proj_string(in_crs_string)\n"
     ]
    }
   ],
   "source": [
    "DF = pd.DataFrame()\n",
    "df = pd.DataFrame()\n",
    "\n",
    "for cell in cells_ids:\n",
    "    \n",
    "    url = f\"https://api.claro-br.kidodynamics.com/v1/grid/cell_properties/{cell}?option=cell_shape\"\n",
    "    \n",
    "    response = requests.get(url, headers=headers(token))\n",
    "    data = json.loads(response.text)\n",
    "    dictionary = data[\"data\"][0][\"value\"] \n",
    "    \n",
    "    data = dictionary\n",
    "    \n",
    "    # Create a pandas dataframe\n",
    "    df = pd.DataFrame({'value': [1]})\n",
    "    \n",
    "    df[\"cell\"] = cell\n",
    "\n",
    "\n",
    "    # Create a shapely polygon object from the dict\n",
    "    polygon = Polygon(data['coordinates'][0])\n",
    "\n",
    "    # Create a GeoDataFrame from the pandas dataframe and the polygon object\n",
    "    gdf = GeoDataFrame(df, geometry=[polygon])\n",
    "\n",
    "    # Set the crs (Coordinate Reference System) for the GeoDataFrame\n",
    "    gdf.crs = {'init': 'epsg:4326'}\n",
    "        \n",
    "    DF = pd.concat([DF, df], axis=0)"
   ]
  },
  {
   "cell_type": "code",
   "execution_count": 35,
   "id": "264d73d1",
   "metadata": {},
   "outputs": [],
   "source": [
    "gdf = GeoDataFrame(DF, geometry=DF[\"geometry\"])"
   ]
  },
  {
   "cell_type": "code",
   "execution_count": 37,
   "id": "ea8c25f1",
   "metadata": {},
   "outputs": [],
   "source": [
    "gdf.reset_index(inplace=True)\n",
    "gdf = gdf[[\"cell\", \"geometry\"]]"
   ]
  },
  {
   "cell_type": "code",
   "execution_count": 67,
   "id": "b64e77c7",
   "metadata": {},
   "outputs": [],
   "source": [
    "done_gdf = gdf.drop(7)"
   ]
  },
  {
   "cell_type": "code",
   "execution_count": 83,
   "id": "fc50bbcf",
   "metadata": {},
   "outputs": [
    {
     "data": {
      "text/plain": [
       "<AxesSubplot: >"
      ]
     },
     "execution_count": 83,
     "metadata": {},
     "output_type": "execute_result"
    },
    {
     "data": {
      "image/png": "[encoded data removed]",
      "text/plain": [
       "<Figure size 1080x864 with 1 Axes>"
      ]
     },
     "metadata": {
      "needs_background": "light"
     },
     "output_type": "display_data"
    }
   ],
   "source": [
    "ax = buffer_interlagos.plot(color='wheat', edgecolor='black', figsize=(15,12))\n",
    "done_gdf.plot(ax=ax, color='none')\n"
   ]
  },
  {
   "cell_type": "code",
   "execution_count": 69,
   "id": "146a6c4b",
   "metadata": {},
   "outputs": [],
   "source": [
    "import os\n",
    "dir = '../../../data/Cidade de São Paulo/Interlagos/'\n",
    "\n",
    "if not os.path.exists(dir): \n",
    "    os.makedirs(dir)\n",
    "#se essa pasta não existir, crio ela"
   ]
  },
  {
   "cell_type": "code",
   "execution_count": 70,
   "id": "c3b21c63",
   "metadata": {},
   "outputs": [],
   "source": [
    "done_gdf.to_file(dir + 'cells_core.geojson')"
   ]
  },
  {
   "cell_type": "code",
   "execution_count": null,
   "id": "eb80ff2d",
   "metadata": {},
   "outputs": [],
   "source": []
  }
 ],
 "metadata": {
  "kernelspec": {
   "display_name": "Python 3 (ipykernel)",
   "language": "python",
   "name": "python3"
  },
  "language_info": {
   "codemirror_mode": {
    "name": "ipython",
    "version": 3
   },
   "file_extension": ".py",
   "mimetype": "text/x-python",
   "name": "python",
   "nbconvert_exporter": "python",
   "pygments_lexer": "ipython3",
   "version": "3.9.12"
  }
 },
 "nbformat": 4,
 "nbformat_minor": 5
}
