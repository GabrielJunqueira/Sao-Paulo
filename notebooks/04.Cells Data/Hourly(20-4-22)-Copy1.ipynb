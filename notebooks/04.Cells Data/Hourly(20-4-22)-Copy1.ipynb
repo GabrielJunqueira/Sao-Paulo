{
 "cells": [
  {
   "cell_type": "code",
   "execution_count": 1,
   "id": "74ec27e4",
   "metadata": {},
   "outputs": [],
   "source": [
    "import requests\n",
    "import json\n",
    "import numpy as np\n",
    "import pandas as pd\n",
    "import getpass"
   ]
  },
  {
   "cell_type": "code",
   "execution_count": 2,
   "id": "fa70177e",
   "metadata": {},
   "outputs": [],
   "source": [
    "root = \"https://api.claro-br.kidodynamics.com/v1/\"\n",
    "project_root = root + 'project/{8976a73d-9e4d-487c-9556-02943fac6684}'"
   ]
  },
  {
   "cell_type": "markdown",
   "id": "051c32ba",
   "metadata": {},
   "source": [
    "# Login"
   ]
  },
  {
   "cell_type": "code",
   "execution_count": 3,
   "id": "09158cf6",
   "metadata": {},
   "outputs": [
    {
     "name": "stdout",
     "output_type": "stream",
     "text": [
      "Enter username:gabrieljunqueirasouza@hotmail.com\n",
      "Pass········\n"
     ]
    }
   ],
   "source": [
    "user = input('Enter username:')\n",
    "password = getpass.getpass('Pass')"
   ]
  },
  {
   "cell_type": "code",
   "execution_count": 4,
   "id": "ada93466",
   "metadata": {},
   "outputs": [],
   "source": [
    "login_response = requests.post(\n",
    "    root + 'users/login',\n",
    "    headers={\n",
    "        'accept': 'application/json',\n",
    "        'Content-Type': 'application/x-www-form-urlencoded',\n",
    "    },\n",
    "    data=f'grant_type=&username={user}&password={password}'\n",
    ")\n",
    "token = login_response.json()['access_token']"
   ]
  },
  {
   "cell_type": "code",
   "execution_count": 5,
   "id": "d5c5b8d7",
   "metadata": {},
   "outputs": [],
   "source": [
    "def headers(token):\n",
    "    return {\n",
    "        'accept': 'application/json',\n",
    "        'Authorization': f\"Bearer {token}\"\n",
    "    }"
   ]
  },
  {
   "cell_type": "code",
   "execution_count": null,
   "id": "1cedc9f9",
   "metadata": {},
   "outputs": [],
   "source": [
    "DF = pd.DataFrame()\n",
    "df = pd.DataFrame()\n",
    "\n",
    "for i in range(24):\n",
    "    response = requests.get(url + \"arrivals=\" + str(i), headers=headers(token))\n",
    "    data = json.loads(response.text)\n",
    "    df = pd.DataFrame(data[\"data\"])\n",
    "    df['Arrival Hour'] = i\n",
    "    DF = pd.concat([DF, df], axis=0)"
   ]
  },
  {
   "cell_type": "markdown",
   "id": "36307675",
   "metadata": {},
   "source": [
    "## Saving "
   ]
  },
  {
   "cell_type": "code",
   "execution_count": 11,
   "id": "6d2aac85",
   "metadata": {},
   "outputs": [],
   "source": [
    "DF = pd.read_csv('../../../data/data from API/match_day/hourly(20-4).csv')"
   ]
  },
  {
   "cell_type": "code",
   "execution_count": 12,
   "id": "b425aa6f",
   "metadata": {},
   "outputs": [],
   "source": [
    "DF.to_csv('hourly(20-4-22).csv')"
   ]
  },
  {
   "cell_type": "code",
   "execution_count": null,
   "id": "adba947d",
   "metadata": {},
   "outputs": [],
   "source": []
  }
 ],
 "metadata": {
  "kernelspec": {
   "display_name": "Python 3 (ipykernel)",
   "language": "python",
   "name": "python3"
  },
  "language_info": {
   "codemirror_mode": {
    "name": "ipython",
    "version": 3
   },
   "file_extension": ".py",
   "mimetype": "text/x-python",
   "name": "python",
   "nbconvert_exporter": "python",
   "pygments_lexer": "ipython3",
   "version": "3.9.12"
  }
 },
 "nbformat": 4,
 "nbformat_minor": 5
}
